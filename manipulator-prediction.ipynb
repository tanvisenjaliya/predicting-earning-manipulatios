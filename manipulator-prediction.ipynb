{
 "cells": [
  {
   "cell_type": "markdown",
   "id": "cf6d4294",
   "metadata": {
    "papermill": {
     "duration": 0.06145,
     "end_time": "2022-03-15T06:36:18.552251",
     "exception": false,
     "start_time": "2022-03-15T06:36:18.490801",
     "status": "completed"
    },
    "tags": []
   },
   "source": [
    "***\n",
    "Task : To build classifiers using different classifications algorithms and find Best Method for Prediction for Manipulator. <br>\n",
    "Dataset : Benish Model<br><br>\n",
    "    <b>Features</b> : DSRI,\tGMI,\tAQI,\tSGI,\tDEPI,\tSGAI,\tACCR,\tLEVI\n",
    "<br>\n",
    "    <b>Target</b> : Manipulator\n",
    "    <br>\n",
    "***"
   ]
  },
  {
   "cell_type": "code",
   "execution_count": 1,
   "id": "100bd027",
   "metadata": {
    "execution": {
     "iopub.execute_input": "2022-03-15T06:36:18.664618Z",
     "iopub.status.busy": "2022-03-15T06:36:18.662796Z",
     "iopub.status.idle": "2022-03-15T06:36:21.184738Z",
     "shell.execute_reply": "2022-03-15T06:36:21.183817Z",
     "shell.execute_reply.started": "2022-03-15T06:34:34.071814Z"
    },
    "papermill": {
     "duration": 2.57475,
     "end_time": "2022-03-15T06:36:21.184915",
     "exception": false,
     "start_time": "2022-03-15T06:36:18.610165",
     "status": "completed"
    },
    "tags": []
   },
   "outputs": [],
   "source": [
    "import numpy as np\n",
    "import pandas as pd\n",
    "\n",
    "import matplotlib.pyplot as plt\n",
    "from matplotlib import gridspec\n",
    "import seaborn as sns\n",
    "import plotly.express as px\n",
    "\n",
    "from sklearn.metrics import classification_report,confusion_matrix\n",
    "from sklearn.metrics import accuracy_score,precision_score, recall_score,f1_score,fbeta_score"
   ]
  },
  {
   "cell_type": "code",
   "execution_count": 2,
   "id": "2e0ea2a8",
   "metadata": {
    "execution": {
     "iopub.execute_input": "2022-03-15T06:36:21.283810Z",
     "iopub.status.busy": "2022-03-15T06:36:21.283071Z",
     "iopub.status.idle": "2022-03-15T06:36:21.794654Z",
     "shell.execute_reply": "2022-03-15T06:36:21.794083Z",
     "shell.execute_reply.started": "2022-03-15T06:34:36.705791Z"
    },
    "papermill": {
     "duration": 0.562374,
     "end_time": "2022-03-15T06:36:21.794808",
     "exception": false,
     "start_time": "2022-03-15T06:36:21.232434",
     "status": "completed"
    },
    "tags": []
   },
   "outputs": [],
   "source": [
    "import imblearn"
   ]
  },
  {
   "cell_type": "code",
   "execution_count": 3,
   "id": "5645702d",
   "metadata": {
    "execution": {
     "iopub.execute_input": "2022-03-15T06:36:21.896029Z",
     "iopub.status.busy": "2022-03-15T06:36:21.895167Z",
     "iopub.status.idle": "2022-03-15T06:36:21.901683Z",
     "shell.execute_reply": "2022-03-15T06:36:21.902223Z",
     "shell.execute_reply.started": "2022-03-15T06:34:37.235575Z"
    },
    "papermill": {
     "duration": 0.06015,
     "end_time": "2022-03-15T06:36:21.902402",
     "exception": false,
     "start_time": "2022-03-15T06:36:21.842252",
     "status": "completed"
    },
    "tags": []
   },
   "outputs": [],
   "source": [
    "from sklearn.model_selection import train_test_split\n",
    "from sklearn.linear_model import LinearRegression\n",
    "from sklearn.linear_model import LogisticRegression\n",
    "from sklearn.ensemble import RandomForestClassifier\n",
    "from sklearn.tree import DecisionTreeClassifier\n",
    "from sklearn.neighbors import KNeighborsClassifier\n",
    "from sklearn.svm import SVC\n",
    "from sklearn. neighbors import KNeighborsClassifier\n",
    "from sklearn.naive_bayes import GaussianNB\n",
    "from sklearn.tree import DecisionTreeClassifier\n",
    "from sklearn import ensemble,svm\n",
    "from sklearn.ensemble import RandomForestClassifier"
   ]
  },
  {
   "cell_type": "markdown",
   "id": "1bbec53a",
   "metadata": {
    "papermill": {
     "duration": 0.057299,
     "end_time": "2022-03-15T06:36:22.005773",
     "exception": false,
     "start_time": "2022-03-15T06:36:21.948474",
     "status": "completed"
    },
    "tags": []
   },
   "source": [
    "## PART I : Data Preparation"
   ]
  },
  {
   "cell_type": "code",
   "execution_count": 4,
   "id": "c0aafe3b",
   "metadata": {
    "execution": {
     "iopub.execute_input": "2022-03-15T06:36:22.126828Z",
     "iopub.status.busy": "2022-03-15T06:36:22.125570Z",
     "iopub.status.idle": "2022-03-15T06:36:22.127486Z",
     "shell.execute_reply": "2022-03-15T06:36:22.126272Z",
     "shell.execute_reply.started": "2022-03-15T06:34:37.247240Z"
    },
    "papermill": {
     "duration": 0.0622,
     "end_time": "2022-03-15T06:36:22.127633",
     "exception": false,
     "start_time": "2022-03-15T06:36:22.065433",
     "status": "completed"
    },
    "tags": []
   },
   "outputs": [],
   "source": [
    "#ignore warnings\n",
    "import warnings\n",
    "warnings.filterwarnings(\"ignore\")"
   ]
  },
  {
   "cell_type": "code",
   "execution_count": 5,
   "id": "6f1e874c",
   "metadata": {
    "execution": {
     "iopub.execute_input": "2022-03-15T06:36:22.229837Z",
     "iopub.status.busy": "2022-03-15T06:36:22.228886Z",
     "iopub.status.idle": "2022-03-15T06:36:22.263810Z",
     "shell.execute_reply": "2022-03-15T06:36:22.264677Z",
     "shell.execute_reply.started": "2022-03-15T06:34:37.258729Z"
    },
    "papermill": {
     "duration": 0.089846,
     "end_time": "2022-03-15T06:36:22.264958",
     "exception": false,
     "start_time": "2022-03-15T06:36:22.175112",
     "status": "completed"
    },
    "tags": []
   },
   "outputs": [],
   "source": [
    "data = pd.read_csv(\"../input/benish/benishmodel.csv\")\n",
    "cdata = pd.read_csv(\"../input/benish/completedata.csv\")"
   ]
  },
  {
   "cell_type": "code",
   "execution_count": 6,
   "id": "24eaabf6",
   "metadata": {
    "execution": {
     "iopub.execute_input": "2022-03-15T06:36:22.380799Z",
     "iopub.status.busy": "2022-03-15T06:36:22.379991Z",
     "iopub.status.idle": "2022-03-15T06:36:22.421749Z",
     "shell.execute_reply": "2022-03-15T06:36:22.421149Z",
     "shell.execute_reply.started": "2022-03-15T06:34:37.302672Z"
    },
    "papermill": {
     "duration": 0.095996,
     "end_time": "2022-03-15T06:36:22.421902",
     "exception": false,
     "start_time": "2022-03-15T06:36:22.325906",
     "status": "completed"
    },
    "tags": []
   },
   "outputs": [
    {
     "data": {
      "text/html": [
       "<div>\n",
       "<style scoped>\n",
       "    .dataframe tbody tr th:only-of-type {\n",
       "        vertical-align: middle;\n",
       "    }\n",
       "\n",
       "    .dataframe tbody tr th {\n",
       "        vertical-align: top;\n",
       "    }\n",
       "\n",
       "    .dataframe thead th {\n",
       "        text-align: right;\n",
       "    }\n",
       "</style>\n",
       "<table border=\"1\" class=\"dataframe\">\n",
       "  <thead>\n",
       "    <tr style=\"text-align: right;\">\n",
       "      <th></th>\n",
       "      <th>Company ID</th>\n",
       "      <th>DSRI</th>\n",
       "      <th>GMI</th>\n",
       "      <th>AQI</th>\n",
       "      <th>SGI</th>\n",
       "      <th>DEPI</th>\n",
       "      <th>SGAI</th>\n",
       "      <th>ACCR</th>\n",
       "      <th>LEVI</th>\n",
       "      <th>Manipulator</th>\n",
       "      <th>C-MANIPULATOR</th>\n",
       "    </tr>\n",
       "  </thead>\n",
       "  <tbody>\n",
       "    <tr>\n",
       "      <th>0</th>\n",
       "      <td>1</td>\n",
       "      <td>1.624742</td>\n",
       "      <td>1.128927</td>\n",
       "      <td>7.185053</td>\n",
       "      <td>0.366211</td>\n",
       "      <td>1.381519</td>\n",
       "      <td>1.624145</td>\n",
       "      <td>-0.166809</td>\n",
       "      <td>1.161082</td>\n",
       "      <td>Yes</td>\n",
       "      <td>1</td>\n",
       "    </tr>\n",
       "    <tr>\n",
       "      <th>1</th>\n",
       "      <td>2</td>\n",
       "      <td>1.000000</td>\n",
       "      <td>1.606492</td>\n",
       "      <td>1.004988</td>\n",
       "      <td>13.081433</td>\n",
       "      <td>0.400000</td>\n",
       "      <td>5.198207</td>\n",
       "      <td>0.060475</td>\n",
       "      <td>0.986732</td>\n",
       "      <td>Yes</td>\n",
       "      <td>1</td>\n",
       "    </tr>\n",
       "    <tr>\n",
       "      <th>2</th>\n",
       "      <td>3</td>\n",
       "      <td>1.000000</td>\n",
       "      <td>1.015607</td>\n",
       "      <td>1.241389</td>\n",
       "      <td>1.475018</td>\n",
       "      <td>1.169353</td>\n",
       "      <td>0.647671</td>\n",
       "      <td>0.036732</td>\n",
       "      <td>1.264305</td>\n",
       "      <td>Yes</td>\n",
       "      <td>1</td>\n",
       "    </tr>\n",
       "    <tr>\n",
       "      <th>3</th>\n",
       "      <td>4</td>\n",
       "      <td>1.486239</td>\n",
       "      <td>1.000000</td>\n",
       "      <td>0.465535</td>\n",
       "      <td>0.672840</td>\n",
       "      <td>2.000000</td>\n",
       "      <td>0.092890</td>\n",
       "      <td>0.273434</td>\n",
       "      <td>0.680975</td>\n",
       "      <td>Yes</td>\n",
       "      <td>1</td>\n",
       "    </tr>\n",
       "    <tr>\n",
       "      <th>4</th>\n",
       "      <td>5</td>\n",
       "      <td>1.000000</td>\n",
       "      <td>1.369038</td>\n",
       "      <td>0.637112</td>\n",
       "      <td>0.861346</td>\n",
       "      <td>1.454676</td>\n",
       "      <td>1.741460</td>\n",
       "      <td>0.123048</td>\n",
       "      <td>0.939047</td>\n",
       "      <td>Yes</td>\n",
       "      <td>1</td>\n",
       "    </tr>\n",
       "    <tr>\n",
       "      <th>...</th>\n",
       "      <td>...</td>\n",
       "      <td>...</td>\n",
       "      <td>...</td>\n",
       "      <td>...</td>\n",
       "      <td>...</td>\n",
       "      <td>...</td>\n",
       "      <td>...</td>\n",
       "      <td>...</td>\n",
       "      <td>...</td>\n",
       "      <td>...</td>\n",
       "      <td>...</td>\n",
       "    </tr>\n",
       "    <tr>\n",
       "      <th>215</th>\n",
       "      <td>216</td>\n",
       "      <td>1.002026</td>\n",
       "      <td>0.998118</td>\n",
       "      <td>-0.917605</td>\n",
       "      <td>1.088962</td>\n",
       "      <td>1.030527</td>\n",
       "      <td>1.076770</td>\n",
       "      <td>-0.001079</td>\n",
       "      <td>1.080009</td>\n",
       "      <td>No</td>\n",
       "      <td>0</td>\n",
       "    </tr>\n",
       "    <tr>\n",
       "      <th>216</th>\n",
       "      <td>217</td>\n",
       "      <td>0.909365</td>\n",
       "      <td>1.170298</td>\n",
       "      <td>1.971874</td>\n",
       "      <td>1.279013</td>\n",
       "      <td>0.971605</td>\n",
       "      <td>0.985939</td>\n",
       "      <td>-0.035854</td>\n",
       "      <td>1.025102</td>\n",
       "      <td>No</td>\n",
       "      <td>0</td>\n",
       "    </tr>\n",
       "    <tr>\n",
       "      <th>217</th>\n",
       "      <td>218</td>\n",
       "      <td>0.937403</td>\n",
       "      <td>0.973292</td>\n",
       "      <td>1.131131</td>\n",
       "      <td>1.083577</td>\n",
       "      <td>1.050011</td>\n",
       "      <td>0.959512</td>\n",
       "      <td>-0.095279</td>\n",
       "      <td>0.976332</td>\n",
       "      <td>No</td>\n",
       "      <td>0</td>\n",
       "    </tr>\n",
       "    <tr>\n",
       "      <th>218</th>\n",
       "      <td>219</td>\n",
       "      <td>1.044944</td>\n",
       "      <td>1.021424</td>\n",
       "      <td>4.437887</td>\n",
       "      <td>0.870790</td>\n",
       "      <td>1.026489</td>\n",
       "      <td>1.060493</td>\n",
       "      <td>-0.157146</td>\n",
       "      <td>0.916070</td>\n",
       "      <td>No</td>\n",
       "      <td>0</td>\n",
       "    </tr>\n",
       "    <tr>\n",
       "      <th>219</th>\n",
       "      <td>220</td>\n",
       "      <td>0.958664</td>\n",
       "      <td>0.916985</td>\n",
       "      <td>0.999652</td>\n",
       "      <td>1.121524</td>\n",
       "      <td>1.096174</td>\n",
       "      <td>0.927539</td>\n",
       "      <td>-0.145247</td>\n",
       "      <td>0.935351</td>\n",
       "      <td>No</td>\n",
       "      <td>0</td>\n",
       "    </tr>\n",
       "  </tbody>\n",
       "</table>\n",
       "<p>220 rows × 11 columns</p>\n",
       "</div>"
      ],
      "text/plain": [
       "     Company ID      DSRI       GMI       AQI        SGI      DEPI      SGAI  \\\n",
       "0             1  1.624742  1.128927  7.185053   0.366211  1.381519  1.624145   \n",
       "1             2  1.000000  1.606492  1.004988  13.081433  0.400000  5.198207   \n",
       "2             3  1.000000  1.015607  1.241389   1.475018  1.169353  0.647671   \n",
       "3             4  1.486239  1.000000  0.465535   0.672840  2.000000  0.092890   \n",
       "4             5  1.000000  1.369038  0.637112   0.861346  1.454676  1.741460   \n",
       "..          ...       ...       ...       ...        ...       ...       ...   \n",
       "215         216  1.002026  0.998118 -0.917605   1.088962  1.030527  1.076770   \n",
       "216         217  0.909365  1.170298  1.971874   1.279013  0.971605  0.985939   \n",
       "217         218  0.937403  0.973292  1.131131   1.083577  1.050011  0.959512   \n",
       "218         219  1.044944  1.021424  4.437887   0.870790  1.026489  1.060493   \n",
       "219         220  0.958664  0.916985  0.999652   1.121524  1.096174  0.927539   \n",
       "\n",
       "         ACCR      LEVI Manipulator  C-MANIPULATOR  \n",
       "0   -0.166809  1.161082         Yes              1  \n",
       "1    0.060475  0.986732         Yes              1  \n",
       "2    0.036732  1.264305         Yes              1  \n",
       "3    0.273434  0.680975         Yes              1  \n",
       "4    0.123048  0.939047         Yes              1  \n",
       "..        ...       ...         ...            ...  \n",
       "215 -0.001079  1.080009          No              0  \n",
       "216 -0.035854  1.025102          No              0  \n",
       "217 -0.095279  0.976332          No              0  \n",
       "218 -0.157146  0.916070          No              0  \n",
       "219 -0.145247  0.935351          No              0  \n",
       "\n",
       "[220 rows x 11 columns]"
      ]
     },
     "execution_count": 6,
     "metadata": {},
     "output_type": "execute_result"
    }
   ],
   "source": [
    "data"
   ]
  },
  {
   "cell_type": "markdown",
   "id": "6520b074",
   "metadata": {
    "papermill": {
     "duration": 0.047299,
     "end_time": "2022-03-15T06:36:22.518074",
     "exception": false,
     "start_time": "2022-03-15T06:36:22.470775",
     "status": "completed"
    },
    "tags": []
   },
   "source": [
    "###  The above data is Sample for Model Development data"
   ]
  },
  {
   "cell_type": "code",
   "execution_count": 7,
   "id": "a7ed4f08",
   "metadata": {
    "execution": {
     "iopub.execute_input": "2022-03-15T06:36:22.639799Z",
     "iopub.status.busy": "2022-03-15T06:36:22.631661Z",
     "iopub.status.idle": "2022-03-15T06:36:22.644891Z",
     "shell.execute_reply": "2022-03-15T06:36:22.644295Z",
     "shell.execute_reply.started": "2022-03-15T06:34:37.347773Z"
    },
    "papermill": {
     "duration": 0.077739,
     "end_time": "2022-03-15T06:36:22.645099",
     "exception": false,
     "start_time": "2022-03-15T06:36:22.567360",
     "status": "completed"
    },
    "tags": []
   },
   "outputs": [
    {
     "data": {
      "text/html": [
       "<div>\n",
       "<style scoped>\n",
       "    .dataframe tbody tr th:only-of-type {\n",
       "        vertical-align: middle;\n",
       "    }\n",
       "\n",
       "    .dataframe tbody tr th {\n",
       "        vertical-align: top;\n",
       "    }\n",
       "\n",
       "    .dataframe thead th {\n",
       "        text-align: right;\n",
       "    }\n",
       "</style>\n",
       "<table border=\"1\" class=\"dataframe\">\n",
       "  <thead>\n",
       "    <tr style=\"text-align: right;\">\n",
       "      <th></th>\n",
       "      <th>Company ID</th>\n",
       "      <th>DSRI</th>\n",
       "      <th>GMI</th>\n",
       "      <th>AQI</th>\n",
       "      <th>SGI</th>\n",
       "      <th>DEPI</th>\n",
       "      <th>SGAI</th>\n",
       "      <th>ACCR</th>\n",
       "      <th>LEVI</th>\n",
       "      <th>Manipulater</th>\n",
       "      <th>C-MANIPULATOR</th>\n",
       "    </tr>\n",
       "  </thead>\n",
       "  <tbody>\n",
       "    <tr>\n",
       "      <th>0</th>\n",
       "      <td>1</td>\n",
       "      <td>1.624742</td>\n",
       "      <td>1.128927</td>\n",
       "      <td>7.185053</td>\n",
       "      <td>0.366211</td>\n",
       "      <td>1.381519</td>\n",
       "      <td>1.624145</td>\n",
       "      <td>-0.166809</td>\n",
       "      <td>1.161082</td>\n",
       "      <td>Yes</td>\n",
       "      <td>1</td>\n",
       "    </tr>\n",
       "    <tr>\n",
       "      <th>1</th>\n",
       "      <td>2</td>\n",
       "      <td>1.000000</td>\n",
       "      <td>1.606492</td>\n",
       "      <td>1.004988</td>\n",
       "      <td>13.081433</td>\n",
       "      <td>0.400000</td>\n",
       "      <td>5.198207</td>\n",
       "      <td>0.060475</td>\n",
       "      <td>0.986732</td>\n",
       "      <td>Yes</td>\n",
       "      <td>1</td>\n",
       "    </tr>\n",
       "    <tr>\n",
       "      <th>2</th>\n",
       "      <td>3</td>\n",
       "      <td>1.000000</td>\n",
       "      <td>1.015607</td>\n",
       "      <td>1.241389</td>\n",
       "      <td>1.475018</td>\n",
       "      <td>1.169353</td>\n",
       "      <td>0.647671</td>\n",
       "      <td>0.036732</td>\n",
       "      <td>1.264305</td>\n",
       "      <td>Yes</td>\n",
       "      <td>1</td>\n",
       "    </tr>\n",
       "    <tr>\n",
       "      <th>3</th>\n",
       "      <td>4</td>\n",
       "      <td>1.486239</td>\n",
       "      <td>1.000000</td>\n",
       "      <td>0.465535</td>\n",
       "      <td>0.672840</td>\n",
       "      <td>2.000000</td>\n",
       "      <td>0.092890</td>\n",
       "      <td>0.273434</td>\n",
       "      <td>0.680975</td>\n",
       "      <td>Yes</td>\n",
       "      <td>1</td>\n",
       "    </tr>\n",
       "    <tr>\n",
       "      <th>4</th>\n",
       "      <td>5</td>\n",
       "      <td>1.000000</td>\n",
       "      <td>1.369038</td>\n",
       "      <td>0.637112</td>\n",
       "      <td>0.861346</td>\n",
       "      <td>1.454676</td>\n",
       "      <td>1.741460</td>\n",
       "      <td>0.123048</td>\n",
       "      <td>0.939047</td>\n",
       "      <td>Yes</td>\n",
       "      <td>1</td>\n",
       "    </tr>\n",
       "    <tr>\n",
       "      <th>...</th>\n",
       "      <td>...</td>\n",
       "      <td>...</td>\n",
       "      <td>...</td>\n",
       "      <td>...</td>\n",
       "      <td>...</td>\n",
       "      <td>...</td>\n",
       "      <td>...</td>\n",
       "      <td>...</td>\n",
       "      <td>...</td>\n",
       "      <td>...</td>\n",
       "      <td>...</td>\n",
       "    </tr>\n",
       "    <tr>\n",
       "      <th>1234</th>\n",
       "      <td>1235</td>\n",
       "      <td>0.893794</td>\n",
       "      <td>1.009273</td>\n",
       "      <td>1.121404</td>\n",
       "      <td>0.775386</td>\n",
       "      <td>1.035547</td>\n",
       "      <td>1.467146</td>\n",
       "      <td>-0.139215</td>\n",
       "      <td>0.947127</td>\n",
       "      <td>No</td>\n",
       "      <td>0</td>\n",
       "    </tr>\n",
       "    <tr>\n",
       "      <th>1235</th>\n",
       "      <td>1236</td>\n",
       "      <td>1.610841</td>\n",
       "      <td>1.000000</td>\n",
       "      <td>0.672489</td>\n",
       "      <td>3.320315</td>\n",
       "      <td>0.743969</td>\n",
       "      <td>0.968648</td>\n",
       "      <td>-0.028570</td>\n",
       "      <td>2.052802</td>\n",
       "      <td>No</td>\n",
       "      <td>0</td>\n",
       "    </tr>\n",
       "    <tr>\n",
       "      <th>1236</th>\n",
       "      <td>1237</td>\n",
       "      <td>0.711823</td>\n",
       "      <td>0.938368</td>\n",
       "      <td>1.045118</td>\n",
       "      <td>1.057345</td>\n",
       "      <td>1.274005</td>\n",
       "      <td>0.634451</td>\n",
       "      <td>-0.174759</td>\n",
       "      <td>0.782268</td>\n",
       "      <td>No</td>\n",
       "      <td>0</td>\n",
       "    </tr>\n",
       "    <tr>\n",
       "      <th>1237</th>\n",
       "      <td>1238</td>\n",
       "      <td>0.870641</td>\n",
       "      <td>1.035855</td>\n",
       "      <td>1.447722</td>\n",
       "      <td>1.202783</td>\n",
       "      <td>1.101233</td>\n",
       "      <td>1.010935</td>\n",
       "      <td>-0.061474</td>\n",
       "      <td>0.906750</td>\n",
       "      <td>No</td>\n",
       "      <td>0</td>\n",
       "    </tr>\n",
       "    <tr>\n",
       "      <th>1238</th>\n",
       "      <td>1239</td>\n",
       "      <td>1.642376</td>\n",
       "      <td>1.000000</td>\n",
       "      <td>0.884185</td>\n",
       "      <td>0.904431</td>\n",
       "      <td>0.940441</td>\n",
       "      <td>1.019431</td>\n",
       "      <td>-0.011317</td>\n",
       "      <td>0.873445</td>\n",
       "      <td>No</td>\n",
       "      <td>0</td>\n",
       "    </tr>\n",
       "  </tbody>\n",
       "</table>\n",
       "<p>1239 rows × 11 columns</p>\n",
       "</div>"
      ],
      "text/plain": [
       "      Company ID      DSRI       GMI       AQI        SGI      DEPI      SGAI  \\\n",
       "0              1  1.624742  1.128927  7.185053   0.366211  1.381519  1.624145   \n",
       "1              2  1.000000  1.606492  1.004988  13.081433  0.400000  5.198207   \n",
       "2              3  1.000000  1.015607  1.241389   1.475018  1.169353  0.647671   \n",
       "3              4  1.486239  1.000000  0.465535   0.672840  2.000000  0.092890   \n",
       "4              5  1.000000  1.369038  0.637112   0.861346  1.454676  1.741460   \n",
       "...          ...       ...       ...       ...        ...       ...       ...   \n",
       "1234        1235  0.893794  1.009273  1.121404   0.775386  1.035547  1.467146   \n",
       "1235        1236  1.610841  1.000000  0.672489   3.320315  0.743969  0.968648   \n",
       "1236        1237  0.711823  0.938368  1.045118   1.057345  1.274005  0.634451   \n",
       "1237        1238  0.870641  1.035855  1.447722   1.202783  1.101233  1.010935   \n",
       "1238        1239  1.642376  1.000000  0.884185   0.904431  0.940441  1.019431   \n",
       "\n",
       "          ACCR      LEVI Manipulater  C-MANIPULATOR  \n",
       "0    -0.166809  1.161082         Yes              1  \n",
       "1     0.060475  0.986732         Yes              1  \n",
       "2     0.036732  1.264305         Yes              1  \n",
       "3     0.273434  0.680975         Yes              1  \n",
       "4     0.123048  0.939047         Yes              1  \n",
       "...        ...       ...         ...            ...  \n",
       "1234 -0.139215  0.947127          No              0  \n",
       "1235 -0.028570  2.052802          No              0  \n",
       "1236 -0.174759  0.782268          No              0  \n",
       "1237 -0.061474  0.906750          No              0  \n",
       "1238 -0.011317  0.873445          No              0  \n",
       "\n",
       "[1239 rows x 11 columns]"
      ]
     },
     "execution_count": 7,
     "metadata": {},
     "output_type": "execute_result"
    }
   ],
   "source": [
    "cdata"
   ]
  },
  {
   "cell_type": "markdown",
   "id": "0182b748",
   "metadata": {
    "papermill": {
     "duration": 0.04898,
     "end_time": "2022-03-15T06:36:22.743767",
     "exception": false,
     "start_time": "2022-03-15T06:36:22.694787",
     "status": "completed"
    },
    "tags": []
   },
   "source": [
    "### the above data is Complete data"
   ]
  },
  {
   "cell_type": "code",
   "execution_count": 8,
   "id": "96a1b195",
   "metadata": {
    "execution": {
     "iopub.execute_input": "2022-03-15T06:36:22.845622Z",
     "iopub.status.busy": "2022-03-15T06:36:22.844787Z",
     "iopub.status.idle": "2022-03-15T06:36:22.868234Z",
     "shell.execute_reply": "2022-03-15T06:36:22.868832Z",
     "shell.execute_reply.started": "2022-03-15T06:34:37.379017Z"
    },
    "papermill": {
     "duration": 0.074784,
     "end_time": "2022-03-15T06:36:22.869063",
     "exception": false,
     "start_time": "2022-03-15T06:36:22.794279",
     "status": "completed"
    },
    "tags": []
   },
   "outputs": [
    {
     "name": "stdout",
     "output_type": "stream",
     "text": [
      "<class 'pandas.core.frame.DataFrame'>\n",
      "RangeIndex: 220 entries, 0 to 219\n",
      "Data columns (total 11 columns):\n",
      " #   Column         Non-Null Count  Dtype  \n",
      "---  ------         --------------  -----  \n",
      " 0   Company ID     220 non-null    int64  \n",
      " 1   DSRI           220 non-null    float64\n",
      " 2   GMI            220 non-null    float64\n",
      " 3   AQI            220 non-null    float64\n",
      " 4   SGI            220 non-null    float64\n",
      " 5   DEPI           220 non-null    float64\n",
      " 6   SGAI           220 non-null    float64\n",
      " 7   ACCR           220 non-null    float64\n",
      " 8   LEVI           220 non-null    float64\n",
      " 9   Manipulator    220 non-null    object \n",
      " 10  C-MANIPULATOR  220 non-null    int64  \n",
      "dtypes: float64(8), int64(2), object(1)\n",
      "memory usage: 19.0+ KB\n"
     ]
    }
   ],
   "source": [
    "data.info()"
   ]
  },
  {
   "cell_type": "markdown",
   "id": "d5ee01bb",
   "metadata": {
    "papermill": {
     "duration": 0.04705,
     "end_time": "2022-03-15T06:36:22.964365",
     "exception": false,
     "start_time": "2022-03-15T06:36:22.917315",
     "status": "completed"
    },
    "tags": []
   },
   "source": [
    "## PART II : Exploratory Data Analysis"
   ]
  },
  {
   "cell_type": "code",
   "execution_count": 9,
   "id": "8ca77682",
   "metadata": {
    "execution": {
     "iopub.execute_input": "2022-03-15T06:36:23.074844Z",
     "iopub.status.busy": "2022-03-15T06:36:23.074185Z",
     "iopub.status.idle": "2022-03-15T06:36:24.826195Z",
     "shell.execute_reply": "2022-03-15T06:36:24.825546Z",
     "shell.execute_reply.started": "2022-03-15T06:34:37.406900Z"
    },
    "papermill": {
     "duration": 1.812293,
     "end_time": "2022-03-15T06:36:24.826370",
     "exception": false,
     "start_time": "2022-03-15T06:36:23.014077",
     "status": "completed"
    },
    "tags": []
   },
   "outputs": [
    {
     "data": {
      "image/png": "[encoded data removed]",
      "text/plain": [
       "<Figure size 1080x1080 with 12 Axes>"
      ]
     },
     "metadata": {
      "needs_background": "light"
     },
     "output_type": "display_data"
    }
   ],
   "source": [
    "data.hist(bins=25, figsize=(15,15))\n",
    "plt.show()"
   ]
  },
  {
   "cell_type": "markdown",
   "id": "cd4805f7",
   "metadata": {
    "papermill": {
     "duration": 0.050084,
     "end_time": "2022-03-15T06:36:24.926413",
     "exception": false,
     "start_time": "2022-03-15T06:36:24.876329",
     "status": "completed"
    },
    "tags": []
   },
   "source": [
    "## PART III : Data Cleaning"
   ]
  },
  {
   "cell_type": "code",
   "execution_count": 10,
   "id": "85e83625",
   "metadata": {
    "execution": {
     "iopub.execute_input": "2022-03-15T06:36:25.029431Z",
     "iopub.status.busy": "2022-03-15T06:36:25.028459Z",
     "iopub.status.idle": "2022-03-15T06:36:25.036450Z",
     "shell.execute_reply": "2022-03-15T06:36:25.037018Z",
     "shell.execute_reply.started": "2022-03-15T06:34:39.170297Z"
    },
    "papermill": {
     "duration": 0.060625,
     "end_time": "2022-03-15T06:36:25.037189",
     "exception": false,
     "start_time": "2022-03-15T06:36:24.976564",
     "status": "completed"
    },
    "tags": []
   },
   "outputs": [
    {
     "data": {
      "text/plain": [
       "Company ID       False\n",
       "DSRI             False\n",
       "GMI              False\n",
       "AQI              False\n",
       "SGI              False\n",
       "DEPI             False\n",
       "SGAI             False\n",
       "ACCR             False\n",
       "LEVI             False\n",
       "Manipulator      False\n",
       "C-MANIPULATOR    False\n",
       "dtype: bool"
      ]
     },
     "execution_count": 10,
     "metadata": {},
     "output_type": "execute_result"
    }
   ],
   "source": [
    "data.isna().any()"
   ]
  },
  {
   "cell_type": "markdown",
   "id": "0485cf35",
   "metadata": {
    "papermill": {
     "duration": 0.048886,
     "end_time": "2022-03-15T06:36:25.135789",
     "exception": false,
     "start_time": "2022-03-15T06:36:25.086903",
     "status": "completed"
    },
    "tags": []
   },
   "source": [
    "There are no null value. The data is clean"
   ]
  },
  {
   "cell_type": "code",
   "execution_count": 11,
   "id": "cf5504f7",
   "metadata": {
    "execution": {
     "iopub.execute_input": "2022-03-15T06:36:25.239073Z",
     "iopub.status.busy": "2022-03-15T06:36:25.238043Z",
     "iopub.status.idle": "2022-03-15T06:36:25.245574Z",
     "shell.execute_reply": "2022-03-15T06:36:25.246170Z",
     "shell.execute_reply.started": "2022-03-15T06:34:39.181954Z"
    },
    "papermill": {
     "duration": 0.061035,
     "end_time": "2022-03-15T06:36:25.246343",
     "exception": false,
     "start_time": "2022-03-15T06:36:25.185308",
     "status": "completed"
    },
    "tags": []
   },
   "outputs": [
    {
     "data": {
      "text/plain": [
       "No     181\n",
       "Yes     39\n",
       "Name: Manipulator, dtype: int64"
      ]
     },
     "execution_count": 11,
     "metadata": {},
     "output_type": "execute_result"
    }
   ],
   "source": [
    "data['Manipulator'].value_counts()"
   ]
  },
  {
   "cell_type": "code",
   "execution_count": 12,
   "id": "9769b743",
   "metadata": {
    "execution": {
     "iopub.execute_input": "2022-03-15T06:36:25.349627Z",
     "iopub.status.busy": "2022-03-15T06:36:25.349011Z",
     "iopub.status.idle": "2022-03-15T06:36:25.355797Z",
     "shell.execute_reply": "2022-03-15T06:36:25.356298Z",
     "shell.execute_reply.started": "2022-03-15T06:34:39.197143Z"
    },
    "papermill": {
     "duration": 0.059948,
     "end_time": "2022-03-15T06:36:25.356473",
     "exception": false,
     "start_time": "2022-03-15T06:36:25.296525",
     "status": "completed"
    },
    "tags": []
   },
   "outputs": [
    {
     "data": {
      "text/plain": [
       "No     1200\n",
       "Yes      39\n",
       "Name: Manipulater, dtype: int64"
      ]
     },
     "execution_count": 12,
     "metadata": {},
     "output_type": "execute_result"
    }
   ],
   "source": [
    "cdata['Manipulater'].value_counts()"
   ]
  },
  {
   "cell_type": "code",
   "execution_count": 13,
   "id": "a0a0afc9",
   "metadata": {
    "execution": {
     "iopub.execute_input": "2022-03-15T06:36:25.469569Z",
     "iopub.status.busy": "2022-03-15T06:36:25.468512Z",
     "iopub.status.idle": "2022-03-15T06:36:25.590064Z",
     "shell.execute_reply": "2022-03-15T06:36:25.590998Z",
     "shell.execute_reply.started": "2022-03-15T06:34:39.208093Z"
    },
    "papermill": {
     "duration": 0.184656,
     "end_time": "2022-03-15T06:36:25.591291",
     "exception": false,
     "start_time": "2022-03-15T06:36:25.406635",
     "status": "completed"
    },
    "scrolled": true,
    "tags": []
   },
   "outputs": [
    {
     "data": {
      "text/plain": [
       "([<matplotlib.patches.Wedge at 0x7f3851413c90>,\n",
       "  <matplotlib.patches.Wedge at 0x7f3851f96090>],\n",
       " [Text(-0.9337765969331362, 0.5814303630014274, 'Not Manipulator'),\n",
       "  Text(0.9337765697144155, -0.5814304067146641, 'Manipulator')],\n",
       " [Text(-0.5093326892362561, 0.3171438343644149, '82.27%'),\n",
       "  Text(0.5093326743896811, -0.3171438582079985, '17.73%')])"
      ]
     },
     "execution_count": 13,
     "metadata": {},
     "output_type": "execute_result"
    },
    {
     "data": {
      "image/png": "[encoded data removed]",
      "text/plain": [
       "<Figure size 432x288 with 1 Axes>"
      ]
     },
     "metadata": {},
     "output_type": "display_data"
    }
   ],
   "source": [
    "plt.pie(x = data.groupby(['Manipulator']).Manipulator.count(),\n",
    "        labels = [\"Not Manipulator\", \"Manipulator\"], autopct='%1.2f%%',\n",
    "        colors=['#229088','#ffa300'])"
   ]
  },
  {
   "cell_type": "markdown",
   "id": "58a72d22",
   "metadata": {
    "papermill": {
     "duration": 0.053604,
     "end_time": "2022-03-15T06:36:25.734740",
     "exception": false,
     "start_time": "2022-03-15T06:36:25.681136",
     "status": "completed"
    },
    "tags": []
   },
   "source": [
    "The data seems to be highly imbalanced. "
   ]
  },
  {
   "cell_type": "markdown",
   "id": "1f8d730a",
   "metadata": {
    "papermill": {
     "duration": 0.051413,
     "end_time": "2022-03-15T06:36:25.838077",
     "exception": false,
     "start_time": "2022-03-15T06:36:25.786664",
     "status": "completed"
    },
    "tags": []
   },
   "source": [
    "#### Droping CompanyID and Manipulator as it won't be needed"
   ]
  },
  {
   "cell_type": "code",
   "execution_count": 14,
   "id": "b4ecc95b",
   "metadata": {
    "execution": {
     "iopub.execute_input": "2022-03-15T06:36:25.947977Z",
     "iopub.status.busy": "2022-03-15T06:36:25.947276Z",
     "iopub.status.idle": "2022-03-15T06:36:25.951795Z",
     "shell.execute_reply": "2022-03-15T06:36:25.952377Z",
     "shell.execute_reply.started": "2022-03-15T06:34:39.335074Z"
    },
    "papermill": {
     "duration": 0.060956,
     "end_time": "2022-03-15T06:36:25.952561",
     "exception": false,
     "start_time": "2022-03-15T06:36:25.891605",
     "status": "completed"
    },
    "tags": []
   },
   "outputs": [],
   "source": [
    "data=data.drop(['Company ID','Manipulator'], axis=1)"
   ]
  },
  {
   "cell_type": "code",
   "execution_count": 15,
   "id": "6392e18f",
   "metadata": {
    "execution": {
     "iopub.execute_input": "2022-03-15T06:36:26.060302Z",
     "iopub.status.busy": "2022-03-15T06:36:26.059561Z",
     "iopub.status.idle": "2022-03-15T06:36:26.072870Z",
     "shell.execute_reply": "2022-03-15T06:36:26.073513Z",
     "shell.execute_reply.started": "2022-03-15T06:34:39.345354Z"
    },
    "papermill": {
     "duration": 0.069079,
     "end_time": "2022-03-15T06:36:26.073684",
     "exception": false,
     "start_time": "2022-03-15T06:36:26.004605",
     "status": "completed"
    },
    "scrolled": true,
    "tags": []
   },
   "outputs": [
    {
     "data": {
      "text/html": [
       "<div>\n",
       "<style scoped>\n",
       "    .dataframe tbody tr th:only-of-type {\n",
       "        vertical-align: middle;\n",
       "    }\n",
       "\n",
       "    .dataframe tbody tr th {\n",
       "        vertical-align: top;\n",
       "    }\n",
       "\n",
       "    .dataframe thead th {\n",
       "        text-align: right;\n",
       "    }\n",
       "</style>\n",
       "<table border=\"1\" class=\"dataframe\">\n",
       "  <thead>\n",
       "    <tr style=\"text-align: right;\">\n",
       "      <th></th>\n",
       "      <th>DSRI</th>\n",
       "      <th>GMI</th>\n",
       "      <th>AQI</th>\n",
       "      <th>SGI</th>\n",
       "      <th>DEPI</th>\n",
       "      <th>SGAI</th>\n",
       "      <th>ACCR</th>\n",
       "      <th>LEVI</th>\n",
       "      <th>C-MANIPULATOR</th>\n",
       "    </tr>\n",
       "  </thead>\n",
       "  <tbody>\n",
       "    <tr>\n",
       "      <th>0</th>\n",
       "      <td>1.624742</td>\n",
       "      <td>1.128927</td>\n",
       "      <td>7.185053</td>\n",
       "      <td>0.366211</td>\n",
       "      <td>1.381519</td>\n",
       "      <td>1.624145</td>\n",
       "      <td>-0.166809</td>\n",
       "      <td>1.161082</td>\n",
       "      <td>1</td>\n",
       "    </tr>\n",
       "    <tr>\n",
       "      <th>1</th>\n",
       "      <td>1.000000</td>\n",
       "      <td>1.606492</td>\n",
       "      <td>1.004988</td>\n",
       "      <td>13.081433</td>\n",
       "      <td>0.400000</td>\n",
       "      <td>5.198207</td>\n",
       "      <td>0.060475</td>\n",
       "      <td>0.986732</td>\n",
       "      <td>1</td>\n",
       "    </tr>\n",
       "    <tr>\n",
       "      <th>2</th>\n",
       "      <td>1.000000</td>\n",
       "      <td>1.015607</td>\n",
       "      <td>1.241389</td>\n",
       "      <td>1.475018</td>\n",
       "      <td>1.169353</td>\n",
       "      <td>0.647671</td>\n",
       "      <td>0.036732</td>\n",
       "      <td>1.264305</td>\n",
       "      <td>1</td>\n",
       "    </tr>\n",
       "    <tr>\n",
       "      <th>3</th>\n",
       "      <td>1.486239</td>\n",
       "      <td>1.000000</td>\n",
       "      <td>0.465535</td>\n",
       "      <td>0.672840</td>\n",
       "      <td>2.000000</td>\n",
       "      <td>0.092890</td>\n",
       "      <td>0.273434</td>\n",
       "      <td>0.680975</td>\n",
       "      <td>1</td>\n",
       "    </tr>\n",
       "    <tr>\n",
       "      <th>4</th>\n",
       "      <td>1.000000</td>\n",
       "      <td>1.369038</td>\n",
       "      <td>0.637112</td>\n",
       "      <td>0.861346</td>\n",
       "      <td>1.454676</td>\n",
       "      <td>1.741460</td>\n",
       "      <td>0.123048</td>\n",
       "      <td>0.939047</td>\n",
       "      <td>1</td>\n",
       "    </tr>\n",
       "  </tbody>\n",
       "</table>\n",
       "</div>"
      ],
      "text/plain": [
       "       DSRI       GMI       AQI        SGI      DEPI      SGAI      ACCR  \\\n",
       "0  1.624742  1.128927  7.185053   0.366211  1.381519  1.624145 -0.166809   \n",
       "1  1.000000  1.606492  1.004988  13.081433  0.400000  5.198207  0.060475   \n",
       "2  1.000000  1.015607  1.241389   1.475018  1.169353  0.647671  0.036732   \n",
       "3  1.486239  1.000000  0.465535   0.672840  2.000000  0.092890  0.273434   \n",
       "4  1.000000  1.369038  0.637112   0.861346  1.454676  1.741460  0.123048   \n",
       "\n",
       "       LEVI  C-MANIPULATOR  \n",
       "0  1.161082              1  \n",
       "1  0.986732              1  \n",
       "2  1.264305              1  \n",
       "3  0.680975              1  \n",
       "4  0.939047              1  "
      ]
     },
     "execution_count": 15,
     "metadata": {},
     "output_type": "execute_result"
    }
   ],
   "source": [
    "data.head()"
   ]
  },
  {
   "cell_type": "markdown",
   "id": "2c6a2034",
   "metadata": {
    "papermill": {
     "duration": 0.051595,
     "end_time": "2022-03-15T06:36:26.177460",
     "exception": false,
     "start_time": "2022-03-15T06:36:26.125865",
     "status": "completed"
    },
    "tags": []
   },
   "source": [
    "## PART IV : Spliting data set into training and test dataset"
   ]
  },
  {
   "cell_type": "markdown",
   "id": "5d440008",
   "metadata": {
    "papermill": {
     "duration": 0.052625,
     "end_time": "2022-03-15T06:36:26.283537",
     "exception": false,
     "start_time": "2022-03-15T06:36:26.230912",
     "status": "completed"
    },
    "tags": []
   },
   "source": [
    "Building model using Sample for Model Development data"
   ]
  },
  {
   "cell_type": "code",
   "execution_count": 16,
   "id": "0ea496a4",
   "metadata": {
    "execution": {
     "iopub.execute_input": "2022-03-15T06:36:26.399302Z",
     "iopub.status.busy": "2022-03-15T06:36:26.398586Z",
     "iopub.status.idle": "2022-03-15T06:36:26.401635Z",
     "shell.execute_reply": "2022-03-15T06:36:26.400885Z",
     "shell.execute_reply.started": "2022-03-15T06:34:39.378483Z"
    },
    "papermill": {
     "duration": 0.06379,
     "end_time": "2022-03-15T06:36:26.401793",
     "exception": false,
     "start_time": "2022-03-15T06:36:26.338003",
     "status": "completed"
    },
    "tags": []
   },
   "outputs": [],
   "source": [
    "X=data.drop(['C-MANIPULATOR'], axis=1)\n",
    "Y=data['C-MANIPULATOR']"
   ]
  },
  {
   "cell_type": "code",
   "execution_count": 17,
   "id": "82cb34e4",
   "metadata": {
    "execution": {
     "iopub.execute_input": "2022-03-15T06:36:26.511415Z",
     "iopub.status.busy": "2022-03-15T06:36:26.510458Z",
     "iopub.status.idle": "2022-03-15T06:36:26.527492Z",
     "shell.execute_reply": "2022-03-15T06:36:26.527966Z",
     "shell.execute_reply.started": "2022-03-15T06:34:39.388774Z"
    },
    "papermill": {
     "duration": 0.072459,
     "end_time": "2022-03-15T06:36:26.528142",
     "exception": false,
     "start_time": "2022-03-15T06:36:26.455683",
     "status": "completed"
    },
    "tags": []
   },
   "outputs": [
    {
     "data": {
      "text/html": [
       "<div>\n",
       "<style scoped>\n",
       "    .dataframe tbody tr th:only-of-type {\n",
       "        vertical-align: middle;\n",
       "    }\n",
       "\n",
       "    .dataframe tbody tr th {\n",
       "        vertical-align: top;\n",
       "    }\n",
       "\n",
       "    .dataframe thead th {\n",
       "        text-align: right;\n",
       "    }\n",
       "</style>\n",
       "<table border=\"1\" class=\"dataframe\">\n",
       "  <thead>\n",
       "    <tr style=\"text-align: right;\">\n",
       "      <th></th>\n",
       "      <th>DSRI</th>\n",
       "      <th>GMI</th>\n",
       "      <th>AQI</th>\n",
       "      <th>SGI</th>\n",
       "      <th>DEPI</th>\n",
       "      <th>SGAI</th>\n",
       "      <th>ACCR</th>\n",
       "      <th>LEVI</th>\n",
       "    </tr>\n",
       "  </thead>\n",
       "  <tbody>\n",
       "    <tr>\n",
       "      <th>0</th>\n",
       "      <td>1.624742</td>\n",
       "      <td>1.128927</td>\n",
       "      <td>7.185053</td>\n",
       "      <td>0.366211</td>\n",
       "      <td>1.381519</td>\n",
       "      <td>1.624145</td>\n",
       "      <td>-0.166809</td>\n",
       "      <td>1.161082</td>\n",
       "    </tr>\n",
       "    <tr>\n",
       "      <th>1</th>\n",
       "      <td>1.000000</td>\n",
       "      <td>1.606492</td>\n",
       "      <td>1.004988</td>\n",
       "      <td>13.081433</td>\n",
       "      <td>0.400000</td>\n",
       "      <td>5.198207</td>\n",
       "      <td>0.060475</td>\n",
       "      <td>0.986732</td>\n",
       "    </tr>\n",
       "    <tr>\n",
       "      <th>2</th>\n",
       "      <td>1.000000</td>\n",
       "      <td>1.015607</td>\n",
       "      <td>1.241389</td>\n",
       "      <td>1.475018</td>\n",
       "      <td>1.169353</td>\n",
       "      <td>0.647671</td>\n",
       "      <td>0.036732</td>\n",
       "      <td>1.264305</td>\n",
       "    </tr>\n",
       "    <tr>\n",
       "      <th>3</th>\n",
       "      <td>1.486239</td>\n",
       "      <td>1.000000</td>\n",
       "      <td>0.465535</td>\n",
       "      <td>0.672840</td>\n",
       "      <td>2.000000</td>\n",
       "      <td>0.092890</td>\n",
       "      <td>0.273434</td>\n",
       "      <td>0.680975</td>\n",
       "    </tr>\n",
       "    <tr>\n",
       "      <th>4</th>\n",
       "      <td>1.000000</td>\n",
       "      <td>1.369038</td>\n",
       "      <td>0.637112</td>\n",
       "      <td>0.861346</td>\n",
       "      <td>1.454676</td>\n",
       "      <td>1.741460</td>\n",
       "      <td>0.123048</td>\n",
       "      <td>0.939047</td>\n",
       "    </tr>\n",
       "    <tr>\n",
       "      <th>...</th>\n",
       "      <td>...</td>\n",
       "      <td>...</td>\n",
       "      <td>...</td>\n",
       "      <td>...</td>\n",
       "      <td>...</td>\n",
       "      <td>...</td>\n",
       "      <td>...</td>\n",
       "      <td>...</td>\n",
       "    </tr>\n",
       "    <tr>\n",
       "      <th>215</th>\n",
       "      <td>1.002026</td>\n",
       "      <td>0.998118</td>\n",
       "      <td>-0.917605</td>\n",
       "      <td>1.088962</td>\n",
       "      <td>1.030527</td>\n",
       "      <td>1.076770</td>\n",
       "      <td>-0.001079</td>\n",
       "      <td>1.080009</td>\n",
       "    </tr>\n",
       "    <tr>\n",
       "      <th>216</th>\n",
       "      <td>0.909365</td>\n",
       "      <td>1.170298</td>\n",
       "      <td>1.971874</td>\n",
       "      <td>1.279013</td>\n",
       "      <td>0.971605</td>\n",
       "      <td>0.985939</td>\n",
       "      <td>-0.035854</td>\n",
       "      <td>1.025102</td>\n",
       "    </tr>\n",
       "    <tr>\n",
       "      <th>217</th>\n",
       "      <td>0.937403</td>\n",
       "      <td>0.973292</td>\n",
       "      <td>1.131131</td>\n",
       "      <td>1.083577</td>\n",
       "      <td>1.050011</td>\n",
       "      <td>0.959512</td>\n",
       "      <td>-0.095279</td>\n",
       "      <td>0.976332</td>\n",
       "    </tr>\n",
       "    <tr>\n",
       "      <th>218</th>\n",
       "      <td>1.044944</td>\n",
       "      <td>1.021424</td>\n",
       "      <td>4.437887</td>\n",
       "      <td>0.870790</td>\n",
       "      <td>1.026489</td>\n",
       "      <td>1.060493</td>\n",
       "      <td>-0.157146</td>\n",
       "      <td>0.916070</td>\n",
       "    </tr>\n",
       "    <tr>\n",
       "      <th>219</th>\n",
       "      <td>0.958664</td>\n",
       "      <td>0.916985</td>\n",
       "      <td>0.999652</td>\n",
       "      <td>1.121524</td>\n",
       "      <td>1.096174</td>\n",
       "      <td>0.927539</td>\n",
       "      <td>-0.145247</td>\n",
       "      <td>0.935351</td>\n",
       "    </tr>\n",
       "  </tbody>\n",
       "</table>\n",
       "<p>220 rows × 8 columns</p>\n",
       "</div>"
      ],
      "text/plain": [
       "         DSRI       GMI       AQI        SGI      DEPI      SGAI      ACCR  \\\n",
       "0    1.624742  1.128927  7.185053   0.366211  1.381519  1.624145 -0.166809   \n",
       "1    1.000000  1.606492  1.004988  13.081433  0.400000  5.198207  0.060475   \n",
       "2    1.000000  1.015607  1.241389   1.475018  1.169353  0.647671  0.036732   \n",
       "3    1.486239  1.000000  0.465535   0.672840  2.000000  0.092890  0.273434   \n",
       "4    1.000000  1.369038  0.637112   0.861346  1.454676  1.741460  0.123048   \n",
       "..        ...       ...       ...        ...       ...       ...       ...   \n",
       "215  1.002026  0.998118 -0.917605   1.088962  1.030527  1.076770 -0.001079   \n",
       "216  0.909365  1.170298  1.971874   1.279013  0.971605  0.985939 -0.035854   \n",
       "217  0.937403  0.973292  1.131131   1.083577  1.050011  0.959512 -0.095279   \n",
       "218  1.044944  1.021424  4.437887   0.870790  1.026489  1.060493 -0.157146   \n",
       "219  0.958664  0.916985  0.999652   1.121524  1.096174  0.927539 -0.145247   \n",
       "\n",
       "         LEVI  \n",
       "0    1.161082  \n",
       "1    0.986732  \n",
       "2    1.264305  \n",
       "3    0.680975  \n",
       "4    0.939047  \n",
       "..        ...  \n",
       "215  1.080009  \n",
       "216  1.025102  \n",
       "217  0.976332  \n",
       "218  0.916070  \n",
       "219  0.935351  \n",
       "\n",
       "[220 rows x 8 columns]"
      ]
     },
     "execution_count": 17,
     "metadata": {},
     "output_type": "execute_result"
    }
   ],
   "source": [
    "X"
   ]
  },
  {
   "cell_type": "code",
   "execution_count": 18,
   "id": "4df88264",
   "metadata": {
    "execution": {
     "iopub.execute_input": "2022-03-15T06:36:26.636703Z",
     "iopub.status.busy": "2022-03-15T06:36:26.636029Z",
     "iopub.status.idle": "2022-03-15T06:36:26.641487Z",
     "shell.execute_reply": "2022-03-15T06:36:26.642022Z",
     "shell.execute_reply.started": "2022-03-15T06:34:39.424434Z"
    },
    "papermill": {
     "duration": 0.061579,
     "end_time": "2022-03-15T06:36:26.642195",
     "exception": false,
     "start_time": "2022-03-15T06:36:26.580616",
     "status": "completed"
    },
    "tags": []
   },
   "outputs": [],
   "source": [
    "X_train, X_test, Y_train, Y_test = \\\n",
    "train_test_split(X, Y, test_size=0.3, random_state=42)"
   ]
  },
  {
   "cell_type": "code",
   "execution_count": 19,
   "id": "5927d947",
   "metadata": {
    "execution": {
     "iopub.execute_input": "2022-03-15T06:36:26.752159Z",
     "iopub.status.busy": "2022-03-15T06:36:26.751464Z",
     "iopub.status.idle": "2022-03-15T06:36:26.758659Z",
     "shell.execute_reply": "2022-03-15T06:36:26.758135Z",
     "shell.execute_reply.started": "2022-03-15T06:34:39.434856Z"
    },
    "papermill": {
     "duration": 0.063289,
     "end_time": "2022-03-15T06:36:26.758796",
     "exception": false,
     "start_time": "2022-03-15T06:36:26.695507",
     "status": "completed"
    },
    "tags": []
   },
   "outputs": [
    {
     "name": "stdout",
     "output_type": "stream",
     "text": [
      "Number transactions X_train dataset:  (154, 8)\n",
      "Number transactions Y_train dataset:  (154,)\n",
      "Number transactions X_test dataset:  (66, 8)\n",
      "Number transactions Y_test dataset:  (66,)\n"
     ]
    }
   ],
   "source": [
    "print(\"Number transactions X_train dataset: \", X_train.shape)\n",
    "print(\"Number transactions Y_train dataset: \", Y_train.shape)\n",
    "print(\"Number transactions X_test dataset: \", X_test.shape)\n",
    "print(\"Number transactions Y_test dataset: \", Y_test.shape)"
   ]
  },
  {
   "cell_type": "markdown",
   "id": "1359971a",
   "metadata": {
    "papermill": {
     "duration": 0.052661,
     "end_time": "2022-03-15T06:36:26.864538",
     "exception": false,
     "start_time": "2022-03-15T06:36:26.811877",
     "status": "completed"
    },
    "tags": []
   },
   "source": [
    "## PART V : Training Model "
   ]
  },
  {
   "cell_type": "markdown",
   "id": "47936f23",
   "metadata": {
    "papermill": {
     "duration": 0.052575,
     "end_time": "2022-03-15T06:36:26.970139",
     "exception": false,
     "start_time": "2022-03-15T06:36:26.917564",
     "status": "completed"
    },
    "tags": []
   },
   "source": [
    "#### 1. Linear Regression"
   ]
  },
  {
   "cell_type": "code",
   "execution_count": 20,
   "id": "6bd4160b",
   "metadata": {
    "execution": {
     "iopub.execute_input": "2022-03-15T06:36:27.079668Z",
     "iopub.status.busy": "2022-03-15T06:36:27.078987Z",
     "iopub.status.idle": "2022-03-15T06:36:27.109258Z",
     "shell.execute_reply": "2022-03-15T06:36:27.108651Z",
     "shell.execute_reply.started": "2022-03-15T06:34:39.448902Z"
    },
    "papermill": {
     "duration": 0.086359,
     "end_time": "2022-03-15T06:36:27.109415",
     "exception": false,
     "start_time": "2022-03-15T06:36:27.023056",
     "status": "completed"
    },
    "tags": []
   },
   "outputs": [
    {
     "name": "stdout",
     "output_type": "stream",
     "text": [
      "accuracy_score percent : -5.7\n",
      "Mean Squared error on Test set :  0.14681053287782148\n"
     ]
    }
   ],
   "source": [
    "lin_reg = LinearRegression()\n",
    "lin_reg.fit(X_train,Y_train)\n",
    "Y_predict = lin_reg.predict(X_test)\n",
    "score = lin_reg.score(X_test, Y_test)\n",
    "linaccuracy = round(score*100,2)\n",
    "print('accuracy_score percent :', linaccuracy)\n",
    "msr = np.mean((Y_predict-Y_test)**2)\n",
    "print(\"Mean Squared error on Test set : \",msr)"
   ]
  },
  {
   "cell_type": "markdown",
   "id": "c40a236f",
   "metadata": {
    "papermill": {
     "duration": 0.056583,
     "end_time": "2022-03-15T06:36:27.220479",
     "exception": false,
     "start_time": "2022-03-15T06:36:27.163896",
     "status": "completed"
    },
    "tags": []
   },
   "source": [
    "#### 2. Logistic Regression"
   ]
  },
  {
   "cell_type": "code",
   "execution_count": 21,
   "id": "945e272f",
   "metadata": {
    "execution": {
     "iopub.execute_input": "2022-03-15T06:36:27.345805Z",
     "iopub.status.busy": "2022-03-15T06:36:27.345099Z",
     "iopub.status.idle": "2022-03-15T06:36:27.368736Z",
     "shell.execute_reply": "2022-03-15T06:36:27.368065Z",
     "shell.execute_reply.started": "2022-03-15T06:34:39.480298Z"
    },
    "papermill": {
     "duration": 0.088833,
     "end_time": "2022-03-15T06:36:27.368895",
     "exception": false,
     "start_time": "2022-03-15T06:36:27.280062",
     "status": "completed"
    },
    "tags": []
   },
   "outputs": [
    {
     "name": "stdout",
     "output_type": "stream",
     "text": [
      "Logistic Regression- \n",
      "accuracy  :  83.33\n",
      "Precision :  0.5\n",
      "Recall    :  0.2727272727272727\n",
      "F1 Score  :  0.3529411764705882\n",
      "F2 Score  :  0.3\n"
     ]
    }
   ],
   "source": [
    "logistic_model = LogisticRegression(max_iter=1000)\n",
    "logistic_model.fit(X_train, Y_train)\n",
    "y_pred = logistic_model.predict(X_test)\n",
    "score = logistic_model.score(X_test, Y_test)\n",
    "logaccuracy  = round(score*100,2)\n",
    "precision = precision_score(Y_test, y_pred)\n",
    "recall = recall_score(Y_test, y_pred)\n",
    "f1 = f1_score(Y_test, y_pred)\n",
    "f2 = fbeta_score(Y_test, y_pred, beta=2.0)\n",
    "print('Logistic Regression- ')\n",
    "print('accuracy  : ', logaccuracy)\n",
    "print('Precision : ',precision)\n",
    "print('Recall    : ', recall)\n",
    "print('F1 Score  : ',f1)\n",
    "print('F2 Score  : ',f2)"
   ]
  },
  {
   "cell_type": "code",
   "execution_count": 22,
   "id": "6349163a",
   "metadata": {
    "execution": {
     "iopub.execute_input": "2022-03-15T06:36:27.495156Z",
     "iopub.status.busy": "2022-03-15T06:36:27.483384Z",
     "iopub.status.idle": "2022-03-15T06:36:27.722182Z",
     "shell.execute_reply": "2022-03-15T06:36:27.721536Z",
     "shell.execute_reply.started": "2022-03-15T06:34:39.512974Z"
    },
    "papermill": {
     "duration": 0.298997,
     "end_time": "2022-03-15T06:36:27.722333",
     "exception": false,
     "start_time": "2022-03-15T06:36:27.423336",
     "status": "completed"
    },
    "tags": []
   },
   "outputs": [
    {
     "data": {
      "image/png": "[encoded data removed]",
      "text/plain": [
       "<Figure size 432x288 with 2 Axes>"
      ]
     },
     "metadata": {
      "needs_background": "light"
     },
     "output_type": "display_data"
    }
   ],
   "source": [
    "import seaborn as sns\n",
    "cm = confusion_matrix(Y_test,y_pred)\n",
    "f,ax = plt.subplots(figsize=(6,4))\n",
    "sns.heatmap(cm,annot = True, linewidths = 0.5, fmt=\".0f\", ax=ax)\n",
    "plt.title('Confusion matrix\\n')\n",
    "plt.xlabel('Predicted label\\n')\n",
    "plt.ylabel('Actual label\\n')\n",
    "plt.show()"
   ]
  },
  {
   "cell_type": "code",
   "execution_count": 23,
   "id": "53688a27",
   "metadata": {
    "execution": {
     "iopub.execute_input": "2022-03-15T06:36:27.838492Z",
     "iopub.status.busy": "2022-03-15T06:36:27.837697Z",
     "iopub.status.idle": "2022-03-15T06:36:28.060434Z",
     "shell.execute_reply": "2022-03-15T06:36:28.059822Z",
     "shell.execute_reply.started": "2022-03-15T06:34:39.743644Z"
    },
    "papermill": {
     "duration": 0.280898,
     "end_time": "2022-03-15T06:36:28.060583",
     "exception": false,
     "start_time": "2022-03-15T06:36:27.779685",
     "status": "completed"
    },
    "tags": []
   },
   "outputs": [
    {
     "data": {
      "image/png": "[encoded data removed]",
      "text/plain": [
       "<Figure size 432x288 with 1 Axes>"
      ]
     },
     "metadata": {
      "needs_background": "light"
     },
     "output_type": "display_data"
    }
   ],
   "source": [
    "#Receiver operating characterstic curve\n",
    "from sklearn.metrics import roc_curve\n",
    "from sklearn.metrics import auc\n",
    "predicted = logistic_model.fit(X_train, Y_train).predict(X_test)\n",
    "fp, tp, th = roc_curve(Y_test, predicted)\n",
    "plt.plot(fp,tp,lw = 2, alpha = 0.3, label='ROC %s, (AUC = %0.2f)' %(logistic_model.__class__.__name__, auc(fp,tp)))\n",
    "plt.title('ROC Curve comparision')\n",
    "plt.legend(bbox_to_anchor =(1.05,1), loc = 2, borderaxespad =0.)\n",
    "plt.plot([0,1],[0,1],'r--')\n",
    "plt.xlim([0,1])\n",
    "plt.ylim([0,1])\n",
    "plt.ylabel('True Positive Rate')\n",
    "plt.xlabel('False Positive Rate')\n",
    "plt.show()"
   ]
  },
  {
   "cell_type": "markdown",
   "id": "1f6fbd3f",
   "metadata": {
    "papermill": {
     "duration": 0.055327,
     "end_time": "2022-03-15T06:36:28.171983",
     "exception": false,
     "start_time": "2022-03-15T06:36:28.116656",
     "status": "completed"
    },
    "tags": []
   },
   "source": [
    "# PART VI: Improving model accuracy"
   ]
  },
  {
   "cell_type": "code",
   "execution_count": 24,
   "id": "b1acd593",
   "metadata": {
    "execution": {
     "iopub.execute_input": "2022-03-15T06:36:28.288823Z",
     "iopub.status.busy": "2022-03-15T06:36:28.287822Z",
     "iopub.status.idle": "2022-03-15T06:36:28.612367Z",
     "shell.execute_reply": "2022-03-15T06:36:28.612860Z",
     "shell.execute_reply.started": "2022-03-15T06:34:39.971231Z"
    },
    "papermill": {
     "duration": 0.385611,
     "end_time": "2022-03-15T06:36:28.613044",
     "exception": false,
     "start_time": "2022-03-15T06:36:28.227433",
     "status": "completed"
    },
    "tags": []
   },
   "outputs": [
    {
     "name": "stdout",
     "output_type": "stream",
     "text": [
      "AdaBoost Classifier- \n",
      "accuracy  :  93.94\n",
      "Precision :  0.8888888888888888\n",
      "Recall    :  0.7272727272727273\n",
      "F1 Score  :  0.7999999999999999\n",
      "F2 Score  :  0.7547169811320755\n"
     ]
    },
    {
     "data": {
      "image/png": "[encoded data removed]",
      "text/plain": [
       "<Figure size 432x288 with 1 Axes>"
      ]
     },
     "metadata": {
      "needs_background": "light"
     },
     "output_type": "display_data"
    }
   ],
   "source": [
    "ada = ensemble.AdaBoostClassifier()\n",
    "pred_ada = ada.fit(X_train,Y_train).predict(X_test)\n",
    "score = ada.score(X_test, Y_test)\n",
    "adaaccuracy = round(accuracy_score(Y_test,pred_ada),4)*100\n",
    "precision = precision_score(Y_test, pred_ada)\n",
    "recall = recall_score(Y_test, pred_ada)\n",
    "f1 = f1_score(Y_test, pred_ada)\n",
    "f2 = fbeta_score(Y_test, pred_ada, beta=2.0)\n",
    "print('AdaBoost Classifier- ')\n",
    "print('accuracy  : ', adaaccuracy)\n",
    "print('Precision : ',precision)\n",
    "print('Recall    : ', recall)\n",
    "print('F1 Score  : ',f1)\n",
    "print('F2 Score  : ',f2)\n",
    "fp, tp, th = roc_curve(Y_test, pred_ada)\n",
    "plt.plot(fp,tp,lw = 2, alpha = 0.3, \n",
    "         label='ROC %s, (AUC = %0.2f)' %(ada.__class__.__name__, auc(fp,tp)))\n",
    "plt.title('ROC Curve comparision')\n",
    "plt.legend(bbox_to_anchor =(1.05,1), loc = 2, borderaxespad =0.)\n",
    "plt.plot([0,1],[0,1],'r--')\n",
    "plt.xlim([0,1])\n",
    "plt.ylim([0,1])\n",
    "plt.ylabel('True Positive Rate')\n",
    "plt.xlabel('False Positive Rate')\n",
    "plt.show()"
   ]
  },
  {
   "cell_type": "code",
   "execution_count": 25,
   "id": "0dd17d19",
   "metadata": {
    "execution": {
     "iopub.execute_input": "2022-03-15T06:36:28.731363Z",
     "iopub.status.busy": "2022-03-15T06:36:28.730422Z",
     "iopub.status.idle": "2022-03-15T06:36:28.736624Z",
     "shell.execute_reply": "2022-03-15T06:36:28.736098Z",
     "shell.execute_reply.started": "2022-03-15T06:34:40.302975Z"
    },
    "papermill": {
     "duration": 0.066531,
     "end_time": "2022-03-15T06:36:28.736770",
     "exception": false,
     "start_time": "2022-03-15T06:36:28.670239",
     "status": "completed"
    },
    "tags": []
   },
   "outputs": [],
   "source": [
    "from sklearn.ensemble import VotingClassifier\n",
    "m1 = LogisticRegression()\n",
    "m2 = DecisionTreeClassifier(random_state=123)\n",
    "m3 = RandomForestClassifier()\n",
    "votingclf = VotingClassifier(estimators=[('lr', m1), ('dt', m2),('rf',m3)], voting='hard')"
   ]
  },
  {
   "cell_type": "code",
   "execution_count": 26,
   "id": "d7ffab8e",
   "metadata": {
    "execution": {
     "iopub.execute_input": "2022-03-15T06:36:28.854884Z",
     "iopub.status.busy": "2022-03-15T06:36:28.854270Z",
     "iopub.status.idle": "2022-03-15T06:36:28.859515Z",
     "shell.execute_reply": "2022-03-15T06:36:28.860039Z",
     "shell.execute_reply.started": "2022-03-15T06:34:40.311081Z"
    },
    "papermill": {
     "duration": 0.066046,
     "end_time": "2022-03-15T06:36:28.860220",
     "exception": false,
     "start_time": "2022-03-15T06:36:28.794174",
     "status": "completed"
    },
    "tags": []
   },
   "outputs": [],
   "source": [
    "model_list = [\n",
    "    ensemble.AdaBoostClassifier(n_estimators= 80),\n",
    "    ensemble.BaggingClassifier(n_estimators =72, random_state=123),\n",
    "    ensemble.GradientBoostingClassifier(n_estimators=70, random_state = 123),\n",
    "    ensemble.RandomForestClassifier(),\n",
    "    svm.SVC(),\n",
    "    votingclf,\n",
    "    KNeighborsClassifier(n_neighbors=3),\n",
    "    LogisticRegression(max_iter=1000),\n",
    "    DecisionTreeClassifier(random_state=0)\n",
    "]"
   ]
  },
  {
   "cell_type": "code",
   "execution_count": 27,
   "id": "662eda33",
   "metadata": {
    "execution": {
     "iopub.execute_input": "2022-03-15T06:36:28.981230Z",
     "iopub.status.busy": "2022-03-15T06:36:28.980466Z",
     "iopub.status.idle": "2022-03-15T06:36:30.044965Z",
     "shell.execute_reply": "2022-03-15T06:36:30.045637Z",
     "shell.execute_reply.started": "2022-03-15T06:34:40.325342Z"
    },
    "papermill": {
     "duration": 1.127691,
     "end_time": "2022-03-15T06:36:30.045829",
     "exception": false,
     "start_time": "2022-03-15T06:36:28.918138",
     "status": "completed"
    },
    "tags": []
   },
   "outputs": [
    {
     "data": {
      "text/html": [
       "<div>\n",
       "<style scoped>\n",
       "    .dataframe tbody tr th:only-of-type {\n",
       "        vertical-align: middle;\n",
       "    }\n",
       "\n",
       "    .dataframe tbody tr th {\n",
       "        vertical-align: top;\n",
       "    }\n",
       "\n",
       "    .dataframe thead th {\n",
       "        text-align: right;\n",
       "    }\n",
       "</style>\n",
       "<table border=\"1\" class=\"dataframe\">\n",
       "  <thead>\n",
       "    <tr style=\"text-align: right;\">\n",
       "      <th></th>\n",
       "      <th>Algorithm</th>\n",
       "      <th>Train Accuracy</th>\n",
       "      <th>Test Accuracy</th>\n",
       "      <th>Sensitivity</th>\n",
       "      <th>Specificity</th>\n",
       "      <th>Precision</th>\n",
       "      <th>F1 Score</th>\n",
       "      <th>F2 Score</th>\n",
       "    </tr>\n",
       "  </thead>\n",
       "  <tbody>\n",
       "    <tr>\n",
       "      <th>0</th>\n",
       "      <td>AdaBoostClassifier</td>\n",
       "      <td>100.0</td>\n",
       "      <td>94.0</td>\n",
       "      <td>0.64</td>\n",
       "      <td>1.00</td>\n",
       "      <td>1.00</td>\n",
       "      <td>0.78</td>\n",
       "      <td>0.69</td>\n",
       "    </tr>\n",
       "    <tr>\n",
       "      <th>1</th>\n",
       "      <td>BaggingClassifier</td>\n",
       "      <td>100.0</td>\n",
       "      <td>94.0</td>\n",
       "      <td>0.64</td>\n",
       "      <td>1.00</td>\n",
       "      <td>1.00</td>\n",
       "      <td>0.78</td>\n",
       "      <td>0.69</td>\n",
       "    </tr>\n",
       "    <tr>\n",
       "      <th>2</th>\n",
       "      <td>GradientBoostingClassifier</td>\n",
       "      <td>100.0</td>\n",
       "      <td>92.0</td>\n",
       "      <td>0.64</td>\n",
       "      <td>0.98</td>\n",
       "      <td>0.88</td>\n",
       "      <td>0.74</td>\n",
       "      <td>0.67</td>\n",
       "    </tr>\n",
       "    <tr>\n",
       "      <th>3</th>\n",
       "      <td>RandomForestClassifier</td>\n",
       "      <td>100.0</td>\n",
       "      <td>91.0</td>\n",
       "      <td>0.45</td>\n",
       "      <td>1.00</td>\n",
       "      <td>1.00</td>\n",
       "      <td>0.62</td>\n",
       "      <td>0.51</td>\n",
       "    </tr>\n",
       "    <tr>\n",
       "      <th>5</th>\n",
       "      <td>VotingClassifier</td>\n",
       "      <td>100.0</td>\n",
       "      <td>91.0</td>\n",
       "      <td>0.55</td>\n",
       "      <td>0.98</td>\n",
       "      <td>0.86</td>\n",
       "      <td>0.67</td>\n",
       "      <td>0.59</td>\n",
       "    </tr>\n",
       "    <tr>\n",
       "      <th>4</th>\n",
       "      <td>SVC</td>\n",
       "      <td>86.0</td>\n",
       "      <td>89.0</td>\n",
       "      <td>0.36</td>\n",
       "      <td>1.00</td>\n",
       "      <td>1.00</td>\n",
       "      <td>0.53</td>\n",
       "      <td>0.42</td>\n",
       "    </tr>\n",
       "    <tr>\n",
       "      <th>6</th>\n",
       "      <td>KNeighborsClassifier</td>\n",
       "      <td>88.0</td>\n",
       "      <td>88.0</td>\n",
       "      <td>0.27</td>\n",
       "      <td>1.00</td>\n",
       "      <td>1.00</td>\n",
       "      <td>0.43</td>\n",
       "      <td>0.32</td>\n",
       "    </tr>\n",
       "    <tr>\n",
       "      <th>8</th>\n",
       "      <td>DecisionTreeClassifier</td>\n",
       "      <td>100.0</td>\n",
       "      <td>88.0</td>\n",
       "      <td>0.55</td>\n",
       "      <td>0.95</td>\n",
       "      <td>0.67</td>\n",
       "      <td>0.60</td>\n",
       "      <td>0.57</td>\n",
       "    </tr>\n",
       "    <tr>\n",
       "      <th>7</th>\n",
       "      <td>LogisticRegression</td>\n",
       "      <td>87.0</td>\n",
       "      <td>83.0</td>\n",
       "      <td>0.27</td>\n",
       "      <td>0.95</td>\n",
       "      <td>0.50</td>\n",
       "      <td>0.35</td>\n",
       "      <td>0.30</td>\n",
       "    </tr>\n",
       "  </tbody>\n",
       "</table>\n",
       "</div>"
      ],
      "text/plain": [
       "                    Algorithm  Train Accuracy  Test Accuracy  Sensitivity  \\\n",
       "0          AdaBoostClassifier           100.0           94.0         0.64   \n",
       "1           BaggingClassifier           100.0           94.0         0.64   \n",
       "2  GradientBoostingClassifier           100.0           92.0         0.64   \n",
       "3      RandomForestClassifier           100.0           91.0         0.45   \n",
       "5            VotingClassifier           100.0           91.0         0.55   \n",
       "4                         SVC            86.0           89.0         0.36   \n",
       "6        KNeighborsClassifier            88.0           88.0         0.27   \n",
       "8      DecisionTreeClassifier           100.0           88.0         0.55   \n",
       "7          LogisticRegression            87.0           83.0         0.27   \n",
       "\n",
       "   Specificity  Precision  F1 Score  F2 Score  \n",
       "0         1.00       1.00      0.78      0.69  \n",
       "1         1.00       1.00      0.78      0.69  \n",
       "2         0.98       0.88      0.74      0.67  \n",
       "3         1.00       1.00      0.62      0.51  \n",
       "5         0.98       0.86      0.67      0.59  \n",
       "4         1.00       1.00      0.53      0.42  \n",
       "6         1.00       1.00      0.43      0.32  \n",
       "8         0.95       0.67      0.60      0.57  \n",
       "7         0.95       0.50      0.35      0.30  "
      ]
     },
     "execution_count": 27,
     "metadata": {},
     "output_type": "execute_result"
    }
   ],
   "source": [
    "cols =[]\n",
    "model_table =pd.DataFrame(columns = cols)\n",
    "\n",
    "count = 0\n",
    "for i in model_list:\n",
    "    pred_model = i.fit(X_train,Y_train).predict(X_test)\n",
    "    fp,tp,th = roc_curve(Y_test, pred_model)\n",
    "    cm = confusion_matrix(Y_test,pred_model)\n",
    "    model_table.loc[count,'Algorithm'] = i.__class__.__name__\n",
    "    model_table.loc[count,'Train Accuracy'] = round(i.score(X_train, Y_train),2)*100\n",
    "    model_table.loc[count,'Test Accuracy'] = round(i.score(X_test, Y_test),2)*100\n",
    "    model_table.loc[count,'Sensitivity'] = round(tp[1],2)\n",
    "    model_table.loc[count,'Specificity'] = 1-round(fp[1],2)\n",
    "    model_table.loc[count,'Precision'] = round(precision_score(Y_test, pred_model),2)\n",
    "    model_table.loc[count,'F1 Score'] = round(f1_score(Y_test, pred_model),2)\n",
    "    model_table.loc[count,'F2 Score'] = round(fbeta_score(Y_test, pred_model, beta=2.0),2)\n",
    "    count+=1\n",
    "model_table.sort_values(by = ['Test Accuracy', 'Precision', 'Sensitivity'], ascending = False, inplace = True)\n",
    "model_table"
   ]
  },
  {
   "cell_type": "markdown",
   "id": "f86d5671",
   "metadata": {
    "papermill": {
     "duration": 0.058652,
     "end_time": "2022-03-15T06:36:30.164224",
     "exception": false,
     "start_time": "2022-03-15T06:36:30.105572",
     "status": "completed"
    },
    "tags": []
   },
   "source": [
    "# Part VII : \n",
    "\n",
    "<h3> Here <b>Sample for Model Development</b> is used for training the model and <b>Complete Data</b> is used for testing</h3>"
   ]
  },
  {
   "cell_type": "code",
   "execution_count": 28,
   "id": "8a68650e",
   "metadata": {
    "execution": {
     "iopub.execute_input": "2022-03-15T06:36:30.302726Z",
     "iopub.status.busy": "2022-03-15T06:36:30.302024Z",
     "iopub.status.idle": "2022-03-15T06:36:30.304842Z",
     "shell.execute_reply": "2022-03-15T06:36:30.305370Z",
     "shell.execute_reply.started": "2022-03-15T06:34:41.396328Z"
    },
    "papermill": {
     "duration": 0.082418,
     "end_time": "2022-03-15T06:36:30.305550",
     "exception": false,
     "start_time": "2022-03-15T06:36:30.223132",
     "status": "completed"
    },
    "tags": []
   },
   "outputs": [
    {
     "data": {
      "text/html": [
       "<div>\n",
       "<style scoped>\n",
       "    .dataframe tbody tr th:only-of-type {\n",
       "        vertical-align: middle;\n",
       "    }\n",
       "\n",
       "    .dataframe tbody tr th {\n",
       "        vertical-align: top;\n",
       "    }\n",
       "\n",
       "    .dataframe thead th {\n",
       "        text-align: right;\n",
       "    }\n",
       "</style>\n",
       "<table border=\"1\" class=\"dataframe\">\n",
       "  <thead>\n",
       "    <tr style=\"text-align: right;\">\n",
       "      <th></th>\n",
       "      <th>DSRI</th>\n",
       "      <th>GMI</th>\n",
       "      <th>AQI</th>\n",
       "      <th>SGI</th>\n",
       "      <th>DEPI</th>\n",
       "      <th>SGAI</th>\n",
       "      <th>ACCR</th>\n",
       "      <th>LEVI</th>\n",
       "    </tr>\n",
       "  </thead>\n",
       "  <tbody>\n",
       "    <tr>\n",
       "      <th>0</th>\n",
       "      <td>1.624742</td>\n",
       "      <td>1.128927</td>\n",
       "      <td>7.185053</td>\n",
       "      <td>0.366211</td>\n",
       "      <td>1.381519</td>\n",
       "      <td>1.624145</td>\n",
       "      <td>-0.166809</td>\n",
       "      <td>1.161082</td>\n",
       "    </tr>\n",
       "    <tr>\n",
       "      <th>1</th>\n",
       "      <td>1.000000</td>\n",
       "      <td>1.606492</td>\n",
       "      <td>1.004988</td>\n",
       "      <td>13.081433</td>\n",
       "      <td>0.400000</td>\n",
       "      <td>5.198207</td>\n",
       "      <td>0.060475</td>\n",
       "      <td>0.986732</td>\n",
       "    </tr>\n",
       "    <tr>\n",
       "      <th>2</th>\n",
       "      <td>1.000000</td>\n",
       "      <td>1.015607</td>\n",
       "      <td>1.241389</td>\n",
       "      <td>1.475018</td>\n",
       "      <td>1.169353</td>\n",
       "      <td>0.647671</td>\n",
       "      <td>0.036732</td>\n",
       "      <td>1.264305</td>\n",
       "    </tr>\n",
       "    <tr>\n",
       "      <th>3</th>\n",
       "      <td>1.486239</td>\n",
       "      <td>1.000000</td>\n",
       "      <td>0.465535</td>\n",
       "      <td>0.672840</td>\n",
       "      <td>2.000000</td>\n",
       "      <td>0.092890</td>\n",
       "      <td>0.273434</td>\n",
       "      <td>0.680975</td>\n",
       "    </tr>\n",
       "    <tr>\n",
       "      <th>4</th>\n",
       "      <td>1.000000</td>\n",
       "      <td>1.369038</td>\n",
       "      <td>0.637112</td>\n",
       "      <td>0.861346</td>\n",
       "      <td>1.454676</td>\n",
       "      <td>1.741460</td>\n",
       "      <td>0.123048</td>\n",
       "      <td>0.939047</td>\n",
       "    </tr>\n",
       "    <tr>\n",
       "      <th>...</th>\n",
       "      <td>...</td>\n",
       "      <td>...</td>\n",
       "      <td>...</td>\n",
       "      <td>...</td>\n",
       "      <td>...</td>\n",
       "      <td>...</td>\n",
       "      <td>...</td>\n",
       "      <td>...</td>\n",
       "    </tr>\n",
       "    <tr>\n",
       "      <th>215</th>\n",
       "      <td>1.002026</td>\n",
       "      <td>0.998118</td>\n",
       "      <td>-0.917605</td>\n",
       "      <td>1.088962</td>\n",
       "      <td>1.030527</td>\n",
       "      <td>1.076770</td>\n",
       "      <td>-0.001079</td>\n",
       "      <td>1.080009</td>\n",
       "    </tr>\n",
       "    <tr>\n",
       "      <th>216</th>\n",
       "      <td>0.909365</td>\n",
       "      <td>1.170298</td>\n",
       "      <td>1.971874</td>\n",
       "      <td>1.279013</td>\n",
       "      <td>0.971605</td>\n",
       "      <td>0.985939</td>\n",
       "      <td>-0.035854</td>\n",
       "      <td>1.025102</td>\n",
       "    </tr>\n",
       "    <tr>\n",
       "      <th>217</th>\n",
       "      <td>0.937403</td>\n",
       "      <td>0.973292</td>\n",
       "      <td>1.131131</td>\n",
       "      <td>1.083577</td>\n",
       "      <td>1.050011</td>\n",
       "      <td>0.959512</td>\n",
       "      <td>-0.095279</td>\n",
       "      <td>0.976332</td>\n",
       "    </tr>\n",
       "    <tr>\n",
       "      <th>218</th>\n",
       "      <td>1.044944</td>\n",
       "      <td>1.021424</td>\n",
       "      <td>4.437887</td>\n",
       "      <td>0.870790</td>\n",
       "      <td>1.026489</td>\n",
       "      <td>1.060493</td>\n",
       "      <td>-0.157146</td>\n",
       "      <td>0.916070</td>\n",
       "    </tr>\n",
       "    <tr>\n",
       "      <th>219</th>\n",
       "      <td>0.958664</td>\n",
       "      <td>0.916985</td>\n",
       "      <td>0.999652</td>\n",
       "      <td>1.121524</td>\n",
       "      <td>1.096174</td>\n",
       "      <td>0.927539</td>\n",
       "      <td>-0.145247</td>\n",
       "      <td>0.935351</td>\n",
       "    </tr>\n",
       "  </tbody>\n",
       "</table>\n",
       "<p>220 rows × 8 columns</p>\n",
       "</div>"
      ],
      "text/plain": [
       "         DSRI       GMI       AQI        SGI      DEPI      SGAI      ACCR  \\\n",
       "0    1.624742  1.128927  7.185053   0.366211  1.381519  1.624145 -0.166809   \n",
       "1    1.000000  1.606492  1.004988  13.081433  0.400000  5.198207  0.060475   \n",
       "2    1.000000  1.015607  1.241389   1.475018  1.169353  0.647671  0.036732   \n",
       "3    1.486239  1.000000  0.465535   0.672840  2.000000  0.092890  0.273434   \n",
       "4    1.000000  1.369038  0.637112   0.861346  1.454676  1.741460  0.123048   \n",
       "..        ...       ...       ...        ...       ...       ...       ...   \n",
       "215  1.002026  0.998118 -0.917605   1.088962  1.030527  1.076770 -0.001079   \n",
       "216  0.909365  1.170298  1.971874   1.279013  0.971605  0.985939 -0.035854   \n",
       "217  0.937403  0.973292  1.131131   1.083577  1.050011  0.959512 -0.095279   \n",
       "218  1.044944  1.021424  4.437887   0.870790  1.026489  1.060493 -0.157146   \n",
       "219  0.958664  0.916985  0.999652   1.121524  1.096174  0.927539 -0.145247   \n",
       "\n",
       "         LEVI  \n",
       "0    1.161082  \n",
       "1    0.986732  \n",
       "2    1.264305  \n",
       "3    0.680975  \n",
       "4    0.939047  \n",
       "..        ...  \n",
       "215  1.080009  \n",
       "216  1.025102  \n",
       "217  0.976332  \n",
       "218  0.916070  \n",
       "219  0.935351  \n",
       "\n",
       "[220 rows x 8 columns]"
      ]
     },
     "execution_count": 28,
     "metadata": {},
     "output_type": "execute_result"
    }
   ],
   "source": [
    "X_train = data.drop(['C-MANIPULATOR'], axis=1)\n",
    "X_train"
   ]
  },
  {
   "cell_type": "code",
   "execution_count": 29,
   "id": "e5cc0c99",
   "metadata": {
    "execution": {
     "iopub.execute_input": "2022-03-15T06:36:30.429505Z",
     "iopub.status.busy": "2022-03-15T06:36:30.428720Z",
     "iopub.status.idle": "2022-03-15T06:36:30.435232Z",
     "shell.execute_reply": "2022-03-15T06:36:30.435722Z",
     "shell.execute_reply.started": "2022-03-15T06:34:41.417312Z"
    },
    "papermill": {
     "duration": 0.069243,
     "end_time": "2022-03-15T06:36:30.435900",
     "exception": false,
     "start_time": "2022-03-15T06:36:30.366657",
     "status": "completed"
    },
    "tags": []
   },
   "outputs": [
    {
     "data": {
      "text/plain": [
       "0      1\n",
       "1      1\n",
       "2      1\n",
       "3      1\n",
       "4      1\n",
       "      ..\n",
       "215    0\n",
       "216    0\n",
       "217    0\n",
       "218    0\n",
       "219    0\n",
       "Name: C-MANIPULATOR, Length: 220, dtype: int64"
      ]
     },
     "execution_count": 29,
     "metadata": {},
     "output_type": "execute_result"
    }
   ],
   "source": [
    "Y_train = data['C-MANIPULATOR']\n",
    "Y_train"
   ]
  },
  {
   "cell_type": "code",
   "execution_count": 30,
   "id": "ab23fdd2",
   "metadata": {
    "execution": {
     "iopub.execute_input": "2022-03-15T06:36:30.571747Z",
     "iopub.status.busy": "2022-03-15T06:36:30.571047Z",
     "iopub.status.idle": "2022-03-15T06:36:30.600324Z",
     "shell.execute_reply": "2022-03-15T06:36:30.599524Z",
     "shell.execute_reply.started": "2022-03-15T06:34:41.431311Z"
    },
    "papermill": {
     "duration": 0.104758,
     "end_time": "2022-03-15T06:36:30.600534",
     "exception": false,
     "start_time": "2022-03-15T06:36:30.495776",
     "status": "completed"
    },
    "tags": []
   },
   "outputs": [
    {
     "data": {
      "text/html": [
       "<div>\n",
       "<style scoped>\n",
       "    .dataframe tbody tr th:only-of-type {\n",
       "        vertical-align: middle;\n",
       "    }\n",
       "\n",
       "    .dataframe tbody tr th {\n",
       "        vertical-align: top;\n",
       "    }\n",
       "\n",
       "    .dataframe thead th {\n",
       "        text-align: right;\n",
       "    }\n",
       "</style>\n",
       "<table border=\"1\" class=\"dataframe\">\n",
       "  <thead>\n",
       "    <tr style=\"text-align: right;\">\n",
       "      <th></th>\n",
       "      <th>DSRI</th>\n",
       "      <th>GMI</th>\n",
       "      <th>AQI</th>\n",
       "      <th>SGI</th>\n",
       "      <th>DEPI</th>\n",
       "      <th>SGAI</th>\n",
       "      <th>ACCR</th>\n",
       "      <th>LEVI</th>\n",
       "    </tr>\n",
       "  </thead>\n",
       "  <tbody>\n",
       "    <tr>\n",
       "      <th>0</th>\n",
       "      <td>1.624742</td>\n",
       "      <td>1.128927</td>\n",
       "      <td>7.185053</td>\n",
       "      <td>0.366211</td>\n",
       "      <td>1.381519</td>\n",
       "      <td>1.624145</td>\n",
       "      <td>-0.166809</td>\n",
       "      <td>1.161082</td>\n",
       "    </tr>\n",
       "    <tr>\n",
       "      <th>1</th>\n",
       "      <td>1.000000</td>\n",
       "      <td>1.606492</td>\n",
       "      <td>1.004988</td>\n",
       "      <td>13.081433</td>\n",
       "      <td>0.400000</td>\n",
       "      <td>5.198207</td>\n",
       "      <td>0.060475</td>\n",
       "      <td>0.986732</td>\n",
       "    </tr>\n",
       "    <tr>\n",
       "      <th>2</th>\n",
       "      <td>1.000000</td>\n",
       "      <td>1.015607</td>\n",
       "      <td>1.241389</td>\n",
       "      <td>1.475018</td>\n",
       "      <td>1.169353</td>\n",
       "      <td>0.647671</td>\n",
       "      <td>0.036732</td>\n",
       "      <td>1.264305</td>\n",
       "    </tr>\n",
       "    <tr>\n",
       "      <th>3</th>\n",
       "      <td>1.486239</td>\n",
       "      <td>1.000000</td>\n",
       "      <td>0.465535</td>\n",
       "      <td>0.672840</td>\n",
       "      <td>2.000000</td>\n",
       "      <td>0.092890</td>\n",
       "      <td>0.273434</td>\n",
       "      <td>0.680975</td>\n",
       "    </tr>\n",
       "    <tr>\n",
       "      <th>4</th>\n",
       "      <td>1.000000</td>\n",
       "      <td>1.369038</td>\n",
       "      <td>0.637112</td>\n",
       "      <td>0.861346</td>\n",
       "      <td>1.454676</td>\n",
       "      <td>1.741460</td>\n",
       "      <td>0.123048</td>\n",
       "      <td>0.939047</td>\n",
       "    </tr>\n",
       "    <tr>\n",
       "      <th>...</th>\n",
       "      <td>...</td>\n",
       "      <td>...</td>\n",
       "      <td>...</td>\n",
       "      <td>...</td>\n",
       "      <td>...</td>\n",
       "      <td>...</td>\n",
       "      <td>...</td>\n",
       "      <td>...</td>\n",
       "    </tr>\n",
       "    <tr>\n",
       "      <th>1234</th>\n",
       "      <td>0.893794</td>\n",
       "      <td>1.009273</td>\n",
       "      <td>1.121404</td>\n",
       "      <td>0.775386</td>\n",
       "      <td>1.035547</td>\n",
       "      <td>1.467146</td>\n",
       "      <td>-0.139215</td>\n",
       "      <td>0.947127</td>\n",
       "    </tr>\n",
       "    <tr>\n",
       "      <th>1235</th>\n",
       "      <td>1.610841</td>\n",
       "      <td>1.000000</td>\n",
       "      <td>0.672489</td>\n",
       "      <td>3.320315</td>\n",
       "      <td>0.743969</td>\n",
       "      <td>0.968648</td>\n",
       "      <td>-0.028570</td>\n",
       "      <td>2.052802</td>\n",
       "    </tr>\n",
       "    <tr>\n",
       "      <th>1236</th>\n",
       "      <td>0.711823</td>\n",
       "      <td>0.938368</td>\n",
       "      <td>1.045118</td>\n",
       "      <td>1.057345</td>\n",
       "      <td>1.274005</td>\n",
       "      <td>0.634451</td>\n",
       "      <td>-0.174759</td>\n",
       "      <td>0.782268</td>\n",
       "    </tr>\n",
       "    <tr>\n",
       "      <th>1237</th>\n",
       "      <td>0.870641</td>\n",
       "      <td>1.035855</td>\n",
       "      <td>1.447722</td>\n",
       "      <td>1.202783</td>\n",
       "      <td>1.101233</td>\n",
       "      <td>1.010935</td>\n",
       "      <td>-0.061474</td>\n",
       "      <td>0.906750</td>\n",
       "    </tr>\n",
       "    <tr>\n",
       "      <th>1238</th>\n",
       "      <td>1.642376</td>\n",
       "      <td>1.000000</td>\n",
       "      <td>0.884185</td>\n",
       "      <td>0.904431</td>\n",
       "      <td>0.940441</td>\n",
       "      <td>1.019431</td>\n",
       "      <td>-0.011317</td>\n",
       "      <td>0.873445</td>\n",
       "    </tr>\n",
       "  </tbody>\n",
       "</table>\n",
       "<p>1239 rows × 8 columns</p>\n",
       "</div>"
      ],
      "text/plain": [
       "          DSRI       GMI       AQI        SGI      DEPI      SGAI      ACCR  \\\n",
       "0     1.624742  1.128927  7.185053   0.366211  1.381519  1.624145 -0.166809   \n",
       "1     1.000000  1.606492  1.004988  13.081433  0.400000  5.198207  0.060475   \n",
       "2     1.000000  1.015607  1.241389   1.475018  1.169353  0.647671  0.036732   \n",
       "3     1.486239  1.000000  0.465535   0.672840  2.000000  0.092890  0.273434   \n",
       "4     1.000000  1.369038  0.637112   0.861346  1.454676  1.741460  0.123048   \n",
       "...        ...       ...       ...        ...       ...       ...       ...   \n",
       "1234  0.893794  1.009273  1.121404   0.775386  1.035547  1.467146 -0.139215   \n",
       "1235  1.610841  1.000000  0.672489   3.320315  0.743969  0.968648 -0.028570   \n",
       "1236  0.711823  0.938368  1.045118   1.057345  1.274005  0.634451 -0.174759   \n",
       "1237  0.870641  1.035855  1.447722   1.202783  1.101233  1.010935 -0.061474   \n",
       "1238  1.642376  1.000000  0.884185   0.904431  0.940441  1.019431 -0.011317   \n",
       "\n",
       "          LEVI  \n",
       "0     1.161082  \n",
       "1     0.986732  \n",
       "2     1.264305  \n",
       "3     0.680975  \n",
       "4     0.939047  \n",
       "...        ...  \n",
       "1234  0.947127  \n",
       "1235  2.052802  \n",
       "1236  0.782268  \n",
       "1237  0.906750  \n",
       "1238  0.873445  \n",
       "\n",
       "[1239 rows x 8 columns]"
      ]
     },
     "execution_count": 30,
     "metadata": {},
     "output_type": "execute_result"
    }
   ],
   "source": [
    "X_test = cdata.drop(['Company ID','Manipulater','C-MANIPULATOR'], axis=1)\n",
    "X_test"
   ]
  },
  {
   "cell_type": "code",
   "execution_count": 31,
   "id": "4d296750",
   "metadata": {
    "execution": {
     "iopub.execute_input": "2022-03-15T06:36:30.733634Z",
     "iopub.status.busy": "2022-03-15T06:36:30.732943Z",
     "iopub.status.idle": "2022-03-15T06:36:30.740115Z",
     "shell.execute_reply": "2022-03-15T06:36:30.740568Z",
     "shell.execute_reply.started": "2022-03-15T06:34:41.456577Z"
    },
    "papermill": {
     "duration": 0.071667,
     "end_time": "2022-03-15T06:36:30.740748",
     "exception": false,
     "start_time": "2022-03-15T06:36:30.669081",
     "status": "completed"
    },
    "tags": []
   },
   "outputs": [
    {
     "data": {
      "text/plain": [
       "0       1\n",
       "1       1\n",
       "2       1\n",
       "3       1\n",
       "4       1\n",
       "       ..\n",
       "1234    0\n",
       "1235    0\n",
       "1236    0\n",
       "1237    0\n",
       "1238    0\n",
       "Name: C-MANIPULATOR, Length: 1239, dtype: int64"
      ]
     },
     "execution_count": 31,
     "metadata": {},
     "output_type": "execute_result"
    }
   ],
   "source": [
    "Y_test = cdata['C-MANIPULATOR']\n",
    "Y_test"
   ]
  },
  {
   "cell_type": "code",
   "execution_count": 32,
   "id": "aba921ee",
   "metadata": {
    "execution": {
     "iopub.execute_input": "2022-03-15T06:36:30.871031Z",
     "iopub.status.busy": "2022-03-15T06:36:30.870301Z",
     "iopub.status.idle": "2022-03-15T06:36:30.874038Z",
     "shell.execute_reply": "2022-03-15T06:36:30.874530Z",
     "shell.execute_reply.started": "2022-03-15T06:34:41.465813Z"
    },
    "papermill": {
     "duration": 0.072534,
     "end_time": "2022-03-15T06:36:30.874701",
     "exception": false,
     "start_time": "2022-03-15T06:36:30.802167",
     "status": "completed"
    },
    "tags": []
   },
   "outputs": [
    {
     "name": "stdout",
     "output_type": "stream",
     "text": [
      "Number transactions X_train dataset:  (220, 8)\n",
      "Number transactions Y_train dataset:  (220,)\n",
      "Number transactions X_test dataset:  (1239, 8)\n",
      "Number transactions Y_test dataset:  (1239,)\n"
     ]
    }
   ],
   "source": [
    "print(\"Number transactions X_train dataset: \", X_train.shape)\n",
    "print(\"Number transactions Y_train dataset: \", Y_train.shape)\n",
    "print(\"Number transactions X_test dataset: \", X_test.shape)\n",
    "print(\"Number transactions Y_test dataset: \", Y_test.shape)"
   ]
  },
  {
   "cell_type": "code",
   "execution_count": 33,
   "id": "e1a10ab1",
   "metadata": {
    "execution": {
     "iopub.execute_input": "2022-03-15T06:36:31.001054Z",
     "iopub.status.busy": "2022-03-15T06:36:31.000383Z",
     "iopub.status.idle": "2022-03-15T06:36:32.460170Z",
     "shell.execute_reply": "2022-03-15T06:36:32.461124Z",
     "shell.execute_reply.started": "2022-03-15T06:34:41.478711Z"
    },
    "papermill": {
     "duration": 1.525321,
     "end_time": "2022-03-15T06:36:32.461426",
     "exception": false,
     "start_time": "2022-03-15T06:36:30.936105",
     "status": "completed"
    },
    "tags": []
   },
   "outputs": [
    {
     "data": {
      "text/html": [
       "<div>\n",
       "<style scoped>\n",
       "    .dataframe tbody tr th:only-of-type {\n",
       "        vertical-align: middle;\n",
       "    }\n",
       "\n",
       "    .dataframe tbody tr th {\n",
       "        vertical-align: top;\n",
       "    }\n",
       "\n",
       "    .dataframe thead th {\n",
       "        text-align: right;\n",
       "    }\n",
       "</style>\n",
       "<table border=\"1\" class=\"dataframe\">\n",
       "  <thead>\n",
       "    <tr style=\"text-align: right;\">\n",
       "      <th></th>\n",
       "      <th>Algorithm</th>\n",
       "      <th>Train Accuracy</th>\n",
       "      <th>Test Accuracy</th>\n",
       "      <th>Sensitivity</th>\n",
       "      <th>Specificity</th>\n",
       "      <th>Precision</th>\n",
       "      <th>F1 Score</th>\n",
       "      <th>F2 Score</th>\n",
       "    </tr>\n",
       "  </thead>\n",
       "  <tbody>\n",
       "    <tr>\n",
       "      <th>1</th>\n",
       "      <td>BaggingClassifier</td>\n",
       "      <td>100.0</td>\n",
       "      <td>97.0</td>\n",
       "      <td>1.00</td>\n",
       "      <td>0.97</td>\n",
       "      <td>0.55</td>\n",
       "      <td>0.71</td>\n",
       "      <td>0.86</td>\n",
       "    </tr>\n",
       "    <tr>\n",
       "      <th>3</th>\n",
       "      <td>RandomForestClassifier</td>\n",
       "      <td>100.0</td>\n",
       "      <td>97.0</td>\n",
       "      <td>1.00</td>\n",
       "      <td>0.97</td>\n",
       "      <td>0.55</td>\n",
       "      <td>0.71</td>\n",
       "      <td>0.86</td>\n",
       "    </tr>\n",
       "    <tr>\n",
       "      <th>4</th>\n",
       "      <td>SVC</td>\n",
       "      <td>87.0</td>\n",
       "      <td>97.0</td>\n",
       "      <td>0.28</td>\n",
       "      <td>0.99</td>\n",
       "      <td>0.55</td>\n",
       "      <td>0.37</td>\n",
       "      <td>0.31</td>\n",
       "    </tr>\n",
       "    <tr>\n",
       "      <th>0</th>\n",
       "      <td>AdaBoostClassifier</td>\n",
       "      <td>100.0</td>\n",
       "      <td>97.0</td>\n",
       "      <td>1.00</td>\n",
       "      <td>0.97</td>\n",
       "      <td>0.53</td>\n",
       "      <td>0.69</td>\n",
       "      <td>0.85</td>\n",
       "    </tr>\n",
       "    <tr>\n",
       "      <th>2</th>\n",
       "      <td>GradientBoostingClassifier</td>\n",
       "      <td>100.0</td>\n",
       "      <td>97.0</td>\n",
       "      <td>1.00</td>\n",
       "      <td>0.97</td>\n",
       "      <td>0.53</td>\n",
       "      <td>0.70</td>\n",
       "      <td>0.85</td>\n",
       "    </tr>\n",
       "    <tr>\n",
       "      <th>5</th>\n",
       "      <td>VotingClassifier</td>\n",
       "      <td>100.0</td>\n",
       "      <td>97.0</td>\n",
       "      <td>1.00</td>\n",
       "      <td>0.97</td>\n",
       "      <td>0.53</td>\n",
       "      <td>0.70</td>\n",
       "      <td>0.85</td>\n",
       "    </tr>\n",
       "    <tr>\n",
       "      <th>6</th>\n",
       "      <td>KNeighborsClassifier</td>\n",
       "      <td>90.0</td>\n",
       "      <td>96.0</td>\n",
       "      <td>0.46</td>\n",
       "      <td>0.98</td>\n",
       "      <td>0.42</td>\n",
       "      <td>0.44</td>\n",
       "      <td>0.45</td>\n",
       "    </tr>\n",
       "    <tr>\n",
       "      <th>7</th>\n",
       "      <td>LogisticRegression</td>\n",
       "      <td>86.0</td>\n",
       "      <td>95.0</td>\n",
       "      <td>0.31</td>\n",
       "      <td>0.97</td>\n",
       "      <td>0.27</td>\n",
       "      <td>0.29</td>\n",
       "      <td>0.30</td>\n",
       "    </tr>\n",
       "    <tr>\n",
       "      <th>8</th>\n",
       "      <td>DecisionTreeClassifier</td>\n",
       "      <td>100.0</td>\n",
       "      <td>94.0</td>\n",
       "      <td>1.00</td>\n",
       "      <td>0.93</td>\n",
       "      <td>0.33</td>\n",
       "      <td>0.50</td>\n",
       "      <td>0.71</td>\n",
       "    </tr>\n",
       "  </tbody>\n",
       "</table>\n",
       "</div>"
      ],
      "text/plain": [
       "                    Algorithm  Train Accuracy  Test Accuracy  Sensitivity  \\\n",
       "1           BaggingClassifier           100.0           97.0         1.00   \n",
       "3      RandomForestClassifier           100.0           97.0         1.00   \n",
       "4                         SVC            87.0           97.0         0.28   \n",
       "0          AdaBoostClassifier           100.0           97.0         1.00   \n",
       "2  GradientBoostingClassifier           100.0           97.0         1.00   \n",
       "5            VotingClassifier           100.0           97.0         1.00   \n",
       "6        KNeighborsClassifier            90.0           96.0         0.46   \n",
       "7          LogisticRegression            86.0           95.0         0.31   \n",
       "8      DecisionTreeClassifier           100.0           94.0         1.00   \n",
       "\n",
       "   Specificity  Precision  F1 Score  F2 Score  \n",
       "1         0.97       0.55      0.71      0.86  \n",
       "3         0.97       0.55      0.71      0.86  \n",
       "4         0.99       0.55      0.37      0.31  \n",
       "0         0.97       0.53      0.69      0.85  \n",
       "2         0.97       0.53      0.70      0.85  \n",
       "5         0.97       0.53      0.70      0.85  \n",
       "6         0.98       0.42      0.44      0.45  \n",
       "7         0.97       0.27      0.29      0.30  \n",
       "8         0.93       0.33      0.50      0.71  "
      ]
     },
     "execution_count": 33,
     "metadata": {},
     "output_type": "execute_result"
    }
   ],
   "source": [
    "cols =[]\n",
    "model_table =pd.DataFrame(columns = cols)\n",
    "\n",
    "count = 0\n",
    "for i in model_list:\n",
    "    pred_model = i.fit(X_train,Y_train).predict(X_test)\n",
    "    fp,tp,th = roc_curve(Y_test, pred_model)\n",
    "    cm = confusion_matrix(Y_test,pred_model)\n",
    "    model_table.loc[count,'Algorithm'] = i.__class__.__name__\n",
    "    model_table.loc[count,'Train Accuracy'] = round(i.score(X_train, Y_train),2)*100\n",
    "    model_table.loc[count,'Test Accuracy'] = round(i.score(X_test, Y_test),2)*100\n",
    "    model_table.loc[count,'Sensitivity'] = round(tp[1],2)\n",
    "    model_table.loc[count,'Specificity'] = 1-round(fp[1],2)\n",
    "    model_table.loc[count,'Precision'] = round(precision_score(Y_test, pred_model),2)\n",
    "    model_table.loc[count,'F1 Score'] = round(f1_score(Y_test, pred_model),2)\n",
    "    model_table.loc[count,'F2 Score'] = round(fbeta_score(Y_test, pred_model, beta=2.0),2)\n",
    "    count+=1\n",
    "model_table.sort_values(by = ['Test Accuracy', 'Precision', 'Sensitivity'], ascending = False, inplace = True)\n",
    "model_table"
   ]
  },
  {
   "cell_type": "code",
   "execution_count": 34,
   "id": "b000a0bd",
   "metadata": {
    "execution": {
     "iopub.execute_input": "2022-03-15T06:36:32.613441Z",
     "iopub.status.busy": "2022-03-15T06:36:32.612739Z",
     "iopub.status.idle": "2022-03-15T06:37:39.669210Z",
     "shell.execute_reply": "2022-03-15T06:37:39.668554Z",
     "shell.execute_reply.started": "2022-03-15T06:34:42.940515Z"
    },
    "papermill": {
     "duration": 67.123485,
     "end_time": "2022-03-15T06:37:39.669377",
     "exception": false,
     "start_time": "2022-03-15T06:36:32.545892",
     "status": "completed"
    },
    "tags": []
   },
   "outputs": [
    {
     "name": "stdout",
     "output_type": "stream",
     "text": [
      "Collecting package metadata (current_repodata.json): - \b\b\\ \b\b| \b\b/ \b\b- \b\b\\ \b\b| \b\b/ \b\b- \b\b\\ \b\b| \b\b/ \b\b- \b\b\\ \b\b| \b\b/ \b\b- \b\b\\ \b\b| \b\b/ \b\b- \b\b\\ \b\b| \b\b/ \b\b- \b\b\\ \b\b| \b\b/ \b\b- \b\b\\ \b\b| \b\b/ \b\b- \b\b\\ \b\b| \b\b/ \b\b- \b\b\\ \b\b| \b\b/ \b\b- \b\b\\ \b\b| \b\b/ \b\b- \b\b\\ \b\b| \b\b/ \b\b- \b\b\\ \b\b| \b\b/ \b\b- \b\b\\ \b\b| \b\b/ \b\b- \b\b\\ \b\b| \b\b/ \b\b- \b\b\\ \b\b| \b\b/ \b\b- \b\b\\ \b\b| \b\b/ \b\b- \b\b\\ \b\b| \b\b/ \b\b- \b\b\\ \b\b| \b\b/ \b\b- \b\b\\ \b\b| \b\b/ \b\b- \b\b\\ \b\b| \b\b/ \b\b- \b\b\\ \b\b| \b\b/ \b\b- \b\b\\ \b\b| \b\b/ \b\b- \b\b\\ \b\b| \b\b/ \b\b- \b\b\\ \b\b| \b\b/ \b\b- \b\b\\ \b\b| \b\b/ \b\b- \b\b\\ \b\b| \b\b/ \b\b- \b\b\\ \b\b| \b\b/ \b\b- \b\b\\ \b\b| \b\b/ \b\b- \b\b\\ \b\b| \b\b/ \b\b- \b\b\\ \b\b| \b\b/ \b\b- \b\b\\ \b\b| \b\b/ \b\b- \b\b\\ \b\b| \b\b/ \b\b- \b\b\\ \b\b| \b\b/ \b\b- \b\b\\ \b\b| \b\b/ \b\b- \b\b\\ \b\b| \b\b/ \b\b- \b\b\\ \b\b| \b\b/ \b\b- \b\bdone\r\n",
      "Solving environment: | \b\b/ \b\b- \b\b\\ \b\b| \b\b/ \b\b- \b\b\\ \b\b| \b\b/ \b\b- \b\b\\ \b\b| \b\b/ \b\b- \b\b\\ \b\b| \b\b/ \b\b- \b\b\\ \b\b| \b\b/ \b\b- \b\b\\ \b\b| \b\b/ \b\b- \b\b\\ \b\b| \b\b/ \b\b- \b\b\\ \b\b| \b\b/ \b\b- \b\b\\ \b\b| \b\b/ \b\b- \b\b\\ \b\b| \b\b/ \b\b- \b\b\\ \b\b| \b\b/ \b\b- \b\b\\ \b\b| \b\b/ \b\b- \b\b\\ \b\b| \b\b/ \b\b- \b\b\\ \b\b| \b\b/ \b\b- \b\b\\ \b\b| \b\b/ \b\b- \b\b\\ \b\b| \b\b/ \b\b- \b\b\\ \b\b| \b\b/ \b\b- \b\b\\ \b\b| \b\b/ \b\b- \b\b\\ \b\b| \b\b/ \b\b- \b\b\\ \b\b| \b\b/ \b\b- \b\b\\ \b\b| \b\b/ \b\b- \b\b\\ \b\b| \b\b/ \b\b- \b\b\\ \b\b| \b\b/ \b\bdone\r\n",
      "\r\n",
      "## Package Plan ##\r\n",
      "\r\n",
      "  environment location: /opt/conda\r\n",
      "\r\n",
      "  added / updated specs:\r\n",
      "    - imbalanced-learn\r\n",
      "\r\n",
      "\r\n",
      "The following packages will be downloaded:\r\n",
      "\r\n",
      "    package                    |            build\r\n",
      "    ---------------------------|-----------------\r\n",
      "    conda-4.11.0               |   py37h89c1867_2        16.9 MB  conda-forge\r\n",
      "    imbalanced-learn-0.9.0     |     pyhd8ed1ab_0         115 KB  conda-forge\r\n",
      "    ------------------------------------------------------------\r\n",
      "                                           Total:        17.0 MB\r\n",
      "\r\n",
      "The following NEW packages will be INSTALLED:\r\n",
      "\r\n",
      "  imbalanced-learn   conda-forge/noarch::imbalanced-learn-0.9.0-pyhd8ed1ab_0\r\n",
      "\r\n",
      "The following packages will be UPDATED:\r\n",
      "\r\n",
      "  conda                               4.11.0-py37h89c1867_0 --> 4.11.0-py37h89c1867_2\r\n",
      "\r\n",
      "\r\n",
      "\r\n",
      "Downloading and Extracting Packages\r\n",
      "imbalanced-learn-0.9 | 115 KB    | ##################################### | 100% \r\n",
      "conda-4.11.0         | 16.9 MB   | ##################################### | 100% \r\n",
      "Preparing transaction: \\ \b\bdone\r\n",
      "Verifying transaction: / \b\b- \b\b\\ \b\b| \b\b/ \b\b- \b\bdone\r\n",
      "Executing transaction: | \b\b/ \b\b- \b\b\\ \b\b| \b\b/ \b\b- \b\b\\ \b\b| \b\b/ \b\b- \b\b\\ \b\b| \b\b/ \b\b- \b\b\\ \b\b| \b\b/ \b\b- \b\b\\ \b\b| \b\b/ \b\b- \b\b\\ \b\b| \b\b/ \b\b- \b\b\\ \b\b| \b\b/ \b\b- \b\b\\ \b\b| \b\b/ \b\b- \b\b\\ \b\b| \b\b/ \b\b- \b\b\\ \b\b| \b\b/ \b\b- \b\b\\ \b\b| \b\b/ \b\b- \b\b\\ \b\b| \b\b/ \b\b- \b\b\\ \b\b| \b\bdone\r\n",
      "\n",
      "Note: you may need to restart the kernel to use updated packages.\n"
     ]
    }
   ],
   "source": [
    "conda install -c glemaitre imbalanced-learn"
   ]
  },
  {
   "cell_type": "code",
   "execution_count": 35,
   "id": "9dcf6fe7",
   "metadata": {
    "execution": {
     "iopub.execute_input": "2022-03-15T06:37:40.027358Z",
     "iopub.status.busy": "2022-03-15T06:37:40.026605Z",
     "iopub.status.idle": "2022-03-15T06:37:41.556622Z",
     "shell.execute_reply": "2022-03-15T06:37:41.557487Z",
     "shell.execute_reply.started": "2022-03-15T06:35:49.197925Z"
    },
    "papermill": {
     "duration": 1.713711,
     "end_time": "2022-03-15T06:37:41.557666",
     "exception": false,
     "start_time": "2022-03-15T06:37:39.843955",
     "status": "completed"
    },
    "tags": []
   },
   "outputs": [
    {
     "name": "stdout",
     "output_type": "stream",
     "text": [
      "F1 Score: 0.889\n"
     ]
    }
   ],
   "source": [
    "# example of evaluating a decision tree with random undersampling\n",
    "from numpy import mean\n",
    "from sklearn.datasets import make_classification\n",
    "from sklearn.model_selection import cross_val_score\n",
    "from sklearn.model_selection import RepeatedStratifiedKFold\n",
    "from sklearn.tree import DecisionTreeClassifier\n",
    "from imblearn.pipeline import Pipeline\n",
    "from imblearn.under_sampling import RandomUnderSampler\n",
    "# define dataset\n",
    "X, y = make_classification(n_samples=10000, weights=[0.99], flip_y=0)\n",
    "# define pipeline\n",
    "steps = [('under', RandomUnderSampler()), ('model', DecisionTreeClassifier())]\n",
    "pipeline = Pipeline(steps=steps)\n",
    "# evaluate pipeline\n",
    "cv = RepeatedStratifiedKFold(n_splits=10, n_repeats=3, random_state=1)\n",
    "scores = cross_val_score(pipeline, X, y, scoring='f1_micro', cv=cv, n_jobs=-1)\n",
    "score = mean(scores)\n",
    "print('F1 Score: %.3f' % score)"
   ]
  },
  {
   "cell_type": "markdown",
   "id": "dddb6ae7",
   "metadata": {
    "papermill": {
     "duration": 0.175699,
     "end_time": "2022-03-15T06:37:41.911875",
     "exception": false,
     "start_time": "2022-03-15T06:37:41.736176",
     "status": "completed"
    },
    "tags": []
   },
   "source": [
    "# PART VIII : Conclusion"
   ]
  },
  {
   "cell_type": "markdown",
   "id": "17918b0c",
   "metadata": {
    "papermill": {
     "duration": 0.173671,
     "end_time": "2022-03-15T06:37:42.260235",
     "exception": false,
     "start_time": "2022-03-15T06:37:42.086564",
     "status": "completed"
    },
    "tags": []
   },
   "source": [
    "<li>Since the data was highly imbalanced, it is prefferd to use ensemble methods. <br>And after training various model we can see that RandomForest Classifier and Voting classifier are most suitable for Manipulator prediction.\n",
    "<li>Initially we used Logistic Regression which gave an accuracy of 83.3%. <br>But then after applying variour ensembling techniques we got 94% accuracy for AdaBoostClassifier\tand BaggingClassifier.\n",
    "<li>Later, on testing these classifers on CompleteData we got 98% accuracy <br>for Random Forest and Voting Classifier. <br>And SVC, BaggingClassifier, AdaBoostClassifier and GradientBoostingClassifier <br>are haveing an accuracy of 97% which can also be taken into consideration."
   ]
  }
 ],
 "metadata": {
  "kernelspec": {
   "display_name": "Python 3",
   "language": "python",
   "name": "python3"
  },
  "language_info": {
   "codemirror_mode": {
    "name": "ipython",
    "version": 3
   },
   "file_extension": ".py",
   "mimetype": "text/x-python",
   "name": "python",
   "nbconvert_exporter": "python",
   "pygments_lexer": "ipython3",
   "version": "3.7.12"
  },
  "papermill": {
   "default_parameters": {},
   "duration": 95.285566,
   "end_time": "2022-03-15T06:37:43.450723",
   "environment_variables": {},
   "exception": null,
   "input_path": "__notebook__.ipynb",
   "output_path": "__notebook__.ipynb",
   "parameters": {},
   "start_time": "2022-03-15T06:36:08.165157",
   "version": "2.3.3"
  }
 },
 "nbformat": 4,
 "nbformat_minor": 5
}
